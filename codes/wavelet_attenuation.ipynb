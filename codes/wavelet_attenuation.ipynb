{
 "cells": [
  {
   "cell_type": "code",
   "execution_count": 91,
   "metadata": {},
   "outputs": [],
   "source": [
    "import matplotlib.pyplot as plt\n",
    "import numpy as num\n",
    "\n",
    "from pyrocko import util, model, io, trace, moment_tensor, gmtpy\n",
    "from pyrocko import pz\n",
    "from pyrocko import orthodrome as od\n",
    "from pyrocko.io import quakeml\n",
    "from pyrocko.io import stationxml as fdsn\n",
    "from pyrocko.client import catalog\n",
    "from pyrocko.automap import Map\n",
    "\n",
    "from obspy.clients.fdsn.client import Client\n",
    "from obspy import UTCDateTime\n",
    "from obspy.core.event import Catalog\n",
    "from obspy.core.stream import Stream\n",
    "from obspy.core.event import Event\n",
    "from obspy.core.event import Origin\n",
    "from obspy.core.event import Magnitude\n",
    "from obspy import read\n",
    "from obspy import read_events\n",
    "from obspy import read_inventory\n",
    "import cartopy.crs as ccrs\n",
    "import cartopy.feature as cfeature\n",
    "import os\n",
    "import pickle\n",
    "\n",
    "import geopy.distance\n",
    "\n",
    "\n",
    "workdir='../'\n",
    "\n",
    "plotdir =  os.path.join(workdir,'PLOT')\n",
    "plotdir =  os.path.join(plotdir,'AMP_DIST')\n",
    "\n",
    "catdir =  os.path.join(workdir,'CAT')\n",
    "meta_datadir=os.path.join(workdir,'META_DATA')\n",
    "datadir=os.path.join(workdir,'DATA_response')"
   ]
  },
  {
   "cell_type": "code",
   "execution_count": 5,
   "metadata": {},
   "outputs": [
    {
     "name": "stdout",
     "output_type": "stream",
     "text": [
      "Number of stations 49\n"
     ]
    }
   ],
   "source": [
    "#select stations (pyrocko)\n",
    "station_name = os.path.join(meta_datadir, 'stations_flegrei_INGV.pf')\n",
    "\n",
    "st = model.load_stations(station_name)\n",
    "print('Number of stations', len(st))"
   ]
  },
  {
   "cell_type": "code",
   "execution_count": 13,
   "metadata": {},
   "outputs": [
    {
     "name": "stdout",
     "output_type": "stream",
     "text": [
      "Number of events: 50\n"
     ]
    }
   ],
   "source": [
    "#select catalogue (pyrocko)\n",
    "catname = os.path.join(catdir, 'catologue_flegrei_new_mag2_5.pf')\n",
    "\n",
    "events = model.load_events(catname)\n",
    "print('Number of events:', len(events))"
   ]
  },
  {
   "cell_type": "code",
   "execution_count": 69,
   "metadata": {},
   "outputs": [
    {
     "name": "stdout",
     "output_type": "stream",
     "text": [
      "selected event: flegrei_2023_11_23_18_41_46\n",
      "lat: 40.8315  lon: 14.133333\n"
     ]
    }
   ],
   "source": [
    "#select event\n",
    "name='flegrei_2023_11_23_18_41_46'\n",
    "ev_dir=os.path.join(datadir,name)\n",
    "ev_name=os.path.join(ev_dir,name + '.mseed')\n",
    "\n",
    "for ev in events:\n",
    "    if ev.name==name:\n",
    "        print('selected event:',ev.name)\n",
    "        print('lat:',ev.lat,' lon:',ev.lon)\n",
    "        event=ev"
   ]
  },
  {
   "cell_type": "code",
   "execution_count": 15,
   "metadata": {},
   "outputs": [
    {
     "name": "stdout",
     "output_type": "stream",
     "text": [
      "84 Trace(s) in Stream:\n",
      "\n",
      "IV.CAAM..HHE | 2023-11-23T18:41:26.900000Z - 2023-11-23T18:42:26.900000Z | 100.0 Hz, 6001 samples\n",
      "...\n",
      "(82 other traces)\n",
      "...\n",
      "IV.VTIR..HHZ | 2023-11-23T18:41:26.900000Z - 2023-11-23T18:42:26.900000Z | 100.0 Hz, 6001 samples\n",
      "\n",
      "[Use \"print(Stream.__str__(extended=True))\" to print all Traces]\n"
     ]
    }
   ],
   "source": [
    "#select wavelet (obspy)  \n",
    "w=read(ev_name)\n",
    "print(w)"
   ]
  },
  {
   "cell_type": "code",
   "execution_count": 51,
   "metadata": {},
   "outputs": [
    {
     "data": {
      "text/plain": [
       "3.77211655590199e-05"
      ]
     },
     "execution_count": 51,
     "metadata": {},
     "output_type": "execute_result"
    }
   ],
   "source": [
    "#w[0].stats.station\n",
    "#st[0].station\n",
    "max(w[0].data)"
   ]
  },
  {
   "cell_type": "code",
   "execution_count": 68,
   "metadata": {},
   "outputs": [
    {
     "name": "stdout",
     "output_type": "stream",
     "text": [
      "84\n"
     ]
    }
   ],
   "source": [
    "st_coord=[]\n",
    "for trace in w:\n",
    "    for s in st:\n",
    "        if trace.stats.station==s.station:\n",
    "            st_coord.append( [trace.stats.station, s.lat,s.lon,max(trace.data) ] )\n",
    "    \n",
    "print(len(st_coord))"
   ]
  },
  {
   "cell_type": "code",
   "execution_count": 71,
   "metadata": {},
   "outputs": [],
   "source": [
    "#calculate distance\n",
    "coords_event = (event.lat, event.lon)\n",
    "\n",
    "dist_vs_amp=[]\n",
    "\n",
    "for row in st_coord:\n",
    "    coords_station = (row[1], row[2])\n",
    "    dist= geopy.distance.distance(coords_event, coords_station).km\n",
    "\n",
    "    dist_vs_amp.append( [dist,row[3]] )"
   ]
  },
  {
   "cell_type": "code",
   "execution_count": 87,
   "metadata": {},
   "outputs": [],
   "source": [
    "distance=[]\n",
    "hhe=[]\n",
    "hhn=[]\n",
    "hhz=[]\n",
    "\n",
    "for ind,row in enumerate(dist_vs_amp):\n",
    "    channel=ind%3\n",
    "    if channel==0:\n",
    "        hhe.append(row[1])\n",
    "        distance.append(row[0])\n",
    "    elif channel==1:\n",
    "        hhn.append(row[1])\n",
    "    elif channel==2:\n",
    "        hhz.append(row[1])"
   ]
  },
  {
   "cell_type": "code",
   "execution_count": 107,
   "metadata": {},
   "outputs": [
    {
     "data": {
      "text/plain": [
       "[1.4673595791318634,\n",
       " 5.004593942838207,\n",
       " 3.6246060938864955,\n",
       " 7.004266431579278,\n",
       " 4.155100402725701,\n",
       " 4.476527136354618,\n",
       " 1.6811596644242484,\n",
       " 1.6674962926139998,\n",
       " 6.26374076431623,\n",
       " 24.403315920847298,\n",
       " 0.5913035331813473,\n",
       " 1.0564791901249238,\n",
       " 1.368394785130087,\n",
       " 27.00020820694338,\n",
       " 24.969884200173585,\n",
       " 21.716864585972797,\n",
       " 22.217335234232205,\n",
       " 42.76540869476767,\n",
       " 41.110535722767715,\n",
       " 11.382134765813388,\n",
       " 32.50678057622278,\n",
       " 25.794646920972657,\n",
       " 25.014415629726457,\n",
       " 24.55536777762108,\n",
       " 23.702196335165073,\n",
       " 25.366492190634855,\n",
       " 25.183922225104507,\n",
       " 24.703198907454457]"
      ]
     },
     "execution_count": 107,
     "metadata": {},
     "output_type": "execute_result"
    }
   ],
   "source": [
    "distance"
   ]
  },
  {
   "cell_type": "code",
   "execution_count": 109,
   "metadata": {},
   "outputs": [
    {
     "data": {
      "image/png": "[encoded data removed]",
      "text/plain": [
       "<Figure size 1100x1100 with 1 Axes>"
      ]
     },
     "metadata": {},
     "output_type": "display_data"
    }
   ],
   "source": [
    "#SAVE FIGURE SWITCH\n",
    "save_fig=True\n",
    "\n",
    "# Creazione della figura e dei subplot\n",
    "fig, axs = plt.subplots(1, 1, figsize=(11, 11), sharex=False)\n",
    "\n",
    "# Plot per il primo subplot\n",
    "axs.scatter(num.array(distance),\n",
    "                num.array(hhe),\n",
    "                label='HHE', s=20, color='green')\n",
    "axs.scatter(num.array(distance),\n",
    "                num.array(hhn),\n",
    "                label='HHN', s=20, color='orange')\n",
    "axs.scatter(num.array(distance),\n",
    "                num.array(hhz),\n",
    "                label='HHZ', s=20, color='blue')\n",
    "axs.set_ylabel('Amplitude')\n",
    "axs.grid(True)\n",
    "axs.set_xlabel('Distance [km]')\n",
    "axs.legend()\n",
    "\n",
    "if save_fig:\n",
    "\n",
    "    figname = os.path.join(plotdir, 'amplitude_vs_distance.pdf')\n",
    "    if os.path.isfile(figname):\n",
    "        os.remove(figname)\n",
    "\n",
    "    plt.savefig(figname)\n",
    "\n",
    "    figname_svg = os.path.join(plotdir, 'amplitude_vs_distance.svg')\n",
    "    if os.path.isfile(figname_svg):\n",
    "        os.remove(figname_svg)\n",
    "\n",
    "    plt.savefig(figname_svg)"
   ]
  }
 ],
 "metadata": {
  "kernelspec": {
   "display_name": "Python 3",
   "language": "python",
   "name": "python3"
  },
  "language_info": {
   "codemirror_mode": {
    "name": "ipython",
    "version": 3
   },
   "file_extension": ".py",
   "mimetype": "text/x-python",
   "name": "python",
   "nbconvert_exporter": "python",
   "pygments_lexer": "ipython3",
   "version": "3.11.7"
  }
 },
 "nbformat": 4,
 "nbformat_minor": 2
}
