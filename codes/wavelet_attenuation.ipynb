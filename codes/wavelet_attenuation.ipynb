{
 "cells": [
  {
   "cell_type": "code",
   "execution_count": 1,
   "metadata": {},
   "outputs": [],
   "source": [
    "import matplotlib.pyplot as plt\n",
    "import numpy as num\n",
    "\n",
    "from pyrocko import util, model, io, trace, moment_tensor, gmtpy\n",
    "from pyrocko import pz\n",
    "from pyrocko import orthodrome as od\n",
    "from pyrocko.io import quakeml\n",
    "from pyrocko.io import stationxml as fdsn\n",
    "from pyrocko.client import catalog\n",
    "from pyrocko.automap import Map\n",
    "\n",
    "from obspy.clients.fdsn.client import Client\n",
    "from obspy import UTCDateTime\n",
    "from obspy.core.event import Catalog\n",
    "from obspy.core.stream import Stream\n",
    "from obspy.core.event import Event\n",
    "from obspy.core.event import Origin\n",
    "from obspy.core.event import Magnitude\n",
    "from obspy import read\n",
    "from obspy import read_events\n",
    "from obspy import read_inventory\n",
    "import cartopy.crs as ccrs\n",
    "import cartopy.feature as cfeature\n",
    "import os\n",
    "import pickle\n",
    "\n",
    "import geopy.distance\n",
    "\n",
    "\n",
    "workdir='../'\n",
    "\n",
    "plotdir =  os.path.join(workdir,'PLOTS')\n",
    "plotdir =  os.path.join(plotdir,'AMP_DIST')\n",
    "\n",
    "catdir =  os.path.join(workdir,'CAT')\n",
    "meta_datadir=os.path.join(workdir,'META_DATA')\n",
    "datadir=os.path.join(workdir,'DATA_response')"
   ]
  },
  {
   "cell_type": "code",
   "execution_count": 2,
   "metadata": {},
   "outputs": [
    {
     "name": "stdout",
     "output_type": "stream",
     "text": [
      "Number of stations 49\n"
     ]
    }
   ],
   "source": [
    "#select stations (pyrocko)\n",
    "station_name = os.path.join(meta_datadir, 'stations_flegrei_INGV.pf')\n",
    "\n",
    "st = model.load_stations(station_name)\n",
    "print('Number of stations', len(st))"
   ]
  },
  {
   "cell_type": "code",
   "execution_count": 3,
   "metadata": {},
   "outputs": [
    {
     "name": "stdout",
     "output_type": "stream",
     "text": [
      "Number of events: 50\n"
     ]
    }
   ],
   "source": [
    "#select catalogue (pyrocko)\n",
    "catname = os.path.join(catdir, 'catologue_flegrei_new_mag2_5.pf')\n",
    "\n",
    "events = model.load_events(catname)\n",
    "print('Number of events:', len(events))"
   ]
  },
  {
   "cell_type": "code",
   "execution_count": 4,
   "metadata": {},
   "outputs": [
    {
     "name": "stdout",
     "output_type": "stream",
     "text": [
      "selected event: flegrei_2023_09_29_21_57_58\n",
      "lat: 40.8265  lon: 14.139667\n"
     ]
    }
   ],
   "source": [
    "#select event\n",
    "##############################################################################\n",
    "name='flegrei_2023_09_29_21_57_58'     ########################################CHANGE\n",
    "##############################################################################\n",
    "\n",
    "ev_dir=os.path.join(datadir,name)\n",
    "ev_name=os.path.join(ev_dir,name + '.mseed')\n",
    "\n",
    "for ev in events:\n",
    "    if ev.name==name:\n",
    "        print('selected event:',ev.name)\n",
    "        print('lat:',ev.lat,' lon:',ev.lon)\n",
    "        event=ev"
   ]
  },
  {
   "cell_type": "code",
   "execution_count": 5,
   "metadata": {},
   "outputs": [
    {
     "name": "stdout",
     "output_type": "stream",
     "text": [
      "79 Trace(s) in Stream:\n",
      "\n",
      "IV.CAAM..HHE | 2023-09-29T21:57:38.320000Z - 2023-09-29T21:58:38.320000Z | 100.0 Hz, 6001 samples\n",
      "...\n",
      "(77 other traces)\n",
      "...\n",
      "IV.VTIR..HHZ | 2023-09-29T21:57:38.320000Z - 2023-09-29T21:58:38.320000Z | 100.0 Hz, 6001 samples\n",
      "\n",
      "[Use \"print(Stream.__str__(extended=True))\" to print all Traces]\n"
     ]
    }
   ],
   "source": [
    "#select wavelet (obspy)  \n",
    "w=read(ev_name)\n",
    "print(w)"
   ]
  },
  {
   "cell_type": "code",
   "execution_count": 6,
   "metadata": {},
   "outputs": [
    {
     "name": "stdout",
     "output_type": "stream",
     "text": [
      "79\n"
     ]
    }
   ],
   "source": [
    "st_coord=[]\n",
    "for trace in w:\n",
    "    for s in st:\n",
    "        if trace.stats.station==s.station:\n",
    "            st_coord.append( [trace.stats.station, s.lat,s.lon,max(trace.data) ] )\n",
    "    \n",
    "print(len(st_coord))"
   ]
  },
  {
   "cell_type": "code",
   "execution_count": 7,
   "metadata": {},
   "outputs": [],
   "source": [
    "#calculate distance\n",
    "coords_event = (event.lat, event.lon)\n",
    "\n",
    "dist_vs_amp=[]\n",
    "\n",
    "for row in st_coord:\n",
    "    coords_station = (row[1], row[2])\n",
    "    dist= geopy.distance.distance(coords_event, coords_station).km\n",
    "\n",
    "    dist_vs_amp.append( [dist,row[3]] )"
   ]
  },
  {
   "cell_type": "code",
   "execution_count": 8,
   "metadata": {},
   "outputs": [],
   "source": [
    "# separate 3 channels\n",
    "distance=[]\n",
    "hhe=[]\n",
    "hhn=[]\n",
    "hhz=[]\n",
    "\n",
    "for ind,row in enumerate(dist_vs_amp):\n",
    "    channel=ind%3\n",
    "    if channel==0:\n",
    "        hhe.append(row[1])\n",
    "        distance.append(row[0])\n",
    "    elif channel==1:\n",
    "        hhn.append(row[1])\n",
    "    elif channel==2:\n",
    "        hhz.append(row[1])"
   ]
  },
  {
   "cell_type": "code",
   "execution_count": 9,
   "metadata": {},
   "outputs": [
    {
     "ename": "ValueError",
     "evalue": "x and y must be the same size",
     "output_type": "error",
     "traceback": [
      "\u001b[0;31m---------------------------------------------------------------------------\u001b[0m",
      "\u001b[0;31mValueError\u001b[0m                                Traceback (most recent call last)",
      "Cell \u001b[0;32mIn[9], line 11\u001b[0m\n\u001b[1;32m      7\u001b[0m \u001b[38;5;66;03m# Plot per il primo subplot\u001b[39;00m\n\u001b[1;32m      8\u001b[0m axs\u001b[38;5;241m.\u001b[39mscatter(num\u001b[38;5;241m.\u001b[39marray(distance),\n\u001b[1;32m      9\u001b[0m                 num\u001b[38;5;241m.\u001b[39marray(hhe),\n\u001b[1;32m     10\u001b[0m                 label\u001b[38;5;241m=\u001b[39m\u001b[38;5;124m'\u001b[39m\u001b[38;5;124mHHE\u001b[39m\u001b[38;5;124m'\u001b[39m, s\u001b[38;5;241m=\u001b[39m\u001b[38;5;241m20\u001b[39m, color\u001b[38;5;241m=\u001b[39m\u001b[38;5;124m'\u001b[39m\u001b[38;5;124mgreen\u001b[39m\u001b[38;5;124m'\u001b[39m)\n\u001b[0;32m---> 11\u001b[0m \u001b[43maxs\u001b[49m\u001b[38;5;241;43m.\u001b[39;49m\u001b[43mscatter\u001b[49m\u001b[43m(\u001b[49m\u001b[43mnum\u001b[49m\u001b[38;5;241;43m.\u001b[39;49m\u001b[43marray\u001b[49m\u001b[43m(\u001b[49m\u001b[43mdistance\u001b[49m\u001b[43m)\u001b[49m\u001b[43m,\u001b[49m\n\u001b[1;32m     12\u001b[0m \u001b[43m                \u001b[49m\u001b[43mnum\u001b[49m\u001b[38;5;241;43m.\u001b[39;49m\u001b[43marray\u001b[49m\u001b[43m(\u001b[49m\u001b[43mhhn\u001b[49m\u001b[43m)\u001b[49m\u001b[43m,\u001b[49m\n\u001b[1;32m     13\u001b[0m \u001b[43m                \u001b[49m\u001b[43mlabel\u001b[49m\u001b[38;5;241;43m=\u001b[39;49m\u001b[38;5;124;43m'\u001b[39;49m\u001b[38;5;124;43mHHN\u001b[39;49m\u001b[38;5;124;43m'\u001b[39;49m\u001b[43m,\u001b[49m\u001b[43m \u001b[49m\u001b[43ms\u001b[49m\u001b[38;5;241;43m=\u001b[39;49m\u001b[38;5;241;43m20\u001b[39;49m\u001b[43m,\u001b[49m\u001b[43m \u001b[49m\u001b[43mcolor\u001b[49m\u001b[38;5;241;43m=\u001b[39;49m\u001b[38;5;124;43m'\u001b[39;49m\u001b[38;5;124;43morange\u001b[39;49m\u001b[38;5;124;43m'\u001b[39;49m\u001b[43m)\u001b[49m\n\u001b[1;32m     14\u001b[0m axs\u001b[38;5;241m.\u001b[39mscatter(num\u001b[38;5;241m.\u001b[39marray(distance),\n\u001b[1;32m     15\u001b[0m                 num\u001b[38;5;241m.\u001b[39marray(hhz),\n\u001b[1;32m     16\u001b[0m                 label\u001b[38;5;241m=\u001b[39m\u001b[38;5;124m'\u001b[39m\u001b[38;5;124mHHZ\u001b[39m\u001b[38;5;124m'\u001b[39m, s\u001b[38;5;241m=\u001b[39m\u001b[38;5;241m20\u001b[39m, color\u001b[38;5;241m=\u001b[39m\u001b[38;5;124m'\u001b[39m\u001b[38;5;124mblue\u001b[39m\u001b[38;5;124m'\u001b[39m)\n\u001b[1;32m     17\u001b[0m axs\u001b[38;5;241m.\u001b[39mset_ylabel(\u001b[38;5;124m'\u001b[39m\u001b[38;5;124mAmplitude\u001b[39m\u001b[38;5;124m'\u001b[39m)\n",
      "File \u001b[0;32m/opt/homebrew/lib/python3.11/site-packages/matplotlib/__init__.py:1465\u001b[0m, in \u001b[0;36m_preprocess_data.<locals>.inner\u001b[0;34m(ax, data, *args, **kwargs)\u001b[0m\n\u001b[1;32m   1462\u001b[0m \u001b[38;5;129m@functools\u001b[39m\u001b[38;5;241m.\u001b[39mwraps(func)\n\u001b[1;32m   1463\u001b[0m \u001b[38;5;28;01mdef\u001b[39;00m \u001b[38;5;21minner\u001b[39m(ax, \u001b[38;5;241m*\u001b[39margs, data\u001b[38;5;241m=\u001b[39m\u001b[38;5;28;01mNone\u001b[39;00m, \u001b[38;5;241m*\u001b[39m\u001b[38;5;241m*\u001b[39mkwargs):\n\u001b[1;32m   1464\u001b[0m     \u001b[38;5;28;01mif\u001b[39;00m data \u001b[38;5;129;01mis\u001b[39;00m \u001b[38;5;28;01mNone\u001b[39;00m:\n\u001b[0;32m-> 1465\u001b[0m         \u001b[38;5;28;01mreturn\u001b[39;00m \u001b[43mfunc\u001b[49m\u001b[43m(\u001b[49m\u001b[43max\u001b[49m\u001b[43m,\u001b[49m\u001b[43m \u001b[49m\u001b[38;5;241;43m*\u001b[39;49m\u001b[38;5;28;43mmap\u001b[39;49m\u001b[43m(\u001b[49m\u001b[43msanitize_sequence\u001b[49m\u001b[43m,\u001b[49m\u001b[43m \u001b[49m\u001b[43margs\u001b[49m\u001b[43m)\u001b[49m\u001b[43m,\u001b[49m\u001b[43m \u001b[49m\u001b[38;5;241;43m*\u001b[39;49m\u001b[38;5;241;43m*\u001b[39;49m\u001b[43mkwargs\u001b[49m\u001b[43m)\u001b[49m\n\u001b[1;32m   1467\u001b[0m     bound \u001b[38;5;241m=\u001b[39m new_sig\u001b[38;5;241m.\u001b[39mbind(ax, \u001b[38;5;241m*\u001b[39margs, \u001b[38;5;241m*\u001b[39m\u001b[38;5;241m*\u001b[39mkwargs)\n\u001b[1;32m   1468\u001b[0m     auto_label \u001b[38;5;241m=\u001b[39m (bound\u001b[38;5;241m.\u001b[39marguments\u001b[38;5;241m.\u001b[39mget(label_namer)\n\u001b[1;32m   1469\u001b[0m                   \u001b[38;5;129;01mor\u001b[39;00m bound\u001b[38;5;241m.\u001b[39mkwargs\u001b[38;5;241m.\u001b[39mget(label_namer))\n",
      "File \u001b[0;32m/opt/homebrew/lib/python3.11/site-packages/matplotlib/axes/_axes.py:4652\u001b[0m, in \u001b[0;36mAxes.scatter\u001b[0;34m(self, x, y, s, c, marker, cmap, norm, vmin, vmax, alpha, linewidths, edgecolors, plotnonfinite, **kwargs)\u001b[0m\n\u001b[1;32m   4650\u001b[0m y \u001b[38;5;241m=\u001b[39m np\u001b[38;5;241m.\u001b[39mma\u001b[38;5;241m.\u001b[39mravel(y)\n\u001b[1;32m   4651\u001b[0m \u001b[38;5;28;01mif\u001b[39;00m x\u001b[38;5;241m.\u001b[39msize \u001b[38;5;241m!=\u001b[39m y\u001b[38;5;241m.\u001b[39msize:\n\u001b[0;32m-> 4652\u001b[0m     \u001b[38;5;28;01mraise\u001b[39;00m \u001b[38;5;167;01mValueError\u001b[39;00m(\u001b[38;5;124m\"\u001b[39m\u001b[38;5;124mx and y must be the same size\u001b[39m\u001b[38;5;124m\"\u001b[39m)\n\u001b[1;32m   4654\u001b[0m \u001b[38;5;28;01mif\u001b[39;00m s \u001b[38;5;129;01mis\u001b[39;00m \u001b[38;5;28;01mNone\u001b[39;00m:\n\u001b[1;32m   4655\u001b[0m     s \u001b[38;5;241m=\u001b[39m (\u001b[38;5;241m20\u001b[39m \u001b[38;5;28;01mif\u001b[39;00m mpl\u001b[38;5;241m.\u001b[39mrcParams[\u001b[38;5;124m'\u001b[39m\u001b[38;5;124m_internal.classic_mode\u001b[39m\u001b[38;5;124m'\u001b[39m] \u001b[38;5;28;01melse\u001b[39;00m\n\u001b[1;32m   4656\u001b[0m          mpl\u001b[38;5;241m.\u001b[39mrcParams[\u001b[38;5;124m'\u001b[39m\u001b[38;5;124mlines.markersize\u001b[39m\u001b[38;5;124m'\u001b[39m] \u001b[38;5;241m*\u001b[39m\u001b[38;5;241m*\u001b[39m \u001b[38;5;241m2.0\u001b[39m)\n",
      "\u001b[0;31mValueError\u001b[0m: x and y must be the same size"
     ]
    },
    {
     "data": {
      "image/png": "[encoded data removed]",
      "text/plain": [
       "<Figure size 1100x1100 with 1 Axes>"
      ]
     },
     "metadata": {},
     "output_type": "display_data"
    }
   ],
   "source": [
    "#SAVE FIGURE SWITCH\n",
    "save_fig=True\n",
    "\n",
    "# Creazione della figura e dei subplot\n",
    "fig, axs = plt.subplots(1, 1, figsize=(11, 11), sharex=False)\n",
    "\n",
    "# Plot per il primo subplot\n",
    "axs.scatter(num.array(distance),\n",
    "                num.array(hhe),\n",
    "                label='HHE', s=20, color='green')\n",
    "axs.scatter(num.array(distance),\n",
    "                num.array(hhn),\n",
    "                label='HHN', s=20, color='orange')\n",
    "axs.scatter(num.array(distance),\n",
    "                num.array(hhz),\n",
    "                label='HHZ', s=20, color='blue')\n",
    "axs.set_ylabel('Amplitude')\n",
    "axs.grid(True)\n",
    "axs.set_xlabel('Distance [km]')\n",
    "axs.legend()\n",
    "\n",
    "if save_fig:\n",
    "\n",
    "    figname = os.path.join(plotdir, name + '_amplitude_vs_distance.pdf')\n",
    "    if os.path.isfile(figname):\n",
    "        os.remove(figname)\n",
    "\n",
    "    plt.savefig(figname)\n",
    "\n",
    "    figname_svg = os.path.join(plotdir, name + '_amplitude_vs_distance.svg')\n",
    "    if os.path.isfile(figname_svg):\n",
    "        os.remove(figname_svg)\n",
    "\n",
    "    plt.savefig(figname_svg)"
   ]
  }
 ],
 "metadata": {
  "kernelspec": {
   "display_name": "Python 3",
   "language": "python",
   "name": "python3"
  },
  "language_info": {
   "codemirror_mode": {
    "name": "ipython",
    "version": 3
   },
   "file_extension": ".py",
   "mimetype": "text/x-python",
   "name": "python",
   "nbconvert_exporter": "python",
   "pygments_lexer": "ipython3",
   "version": "3.11.7"
  }
 },
 "nbformat": 4,
 "nbformat_minor": 2
}
