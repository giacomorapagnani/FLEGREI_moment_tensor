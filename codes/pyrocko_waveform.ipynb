{
 "cells": [
  {
   "cell_type": "code",
   "execution_count": 1,
   "metadata": {},
   "outputs": [],
   "source": [
    "from pyrocko import util, model, io, trace, moment_tensor, gmtpy\n",
    "from pyrocko import pz\n",
    "from pyrocko import orthodrome as od\n",
    "from pyrocko.io import quakeml\n",
    "from pyrocko.io import stationxml as fdsn\n",
    "from pyrocko.client import catalog\n",
    "from pyrocko.automap import Map\n",
    "import pyrocko.moment_tensor as pmt\n",
    "from seiscloud import plot as scp\n",
    "from seiscloud import cluster as scc\n",
    "import numpy as num\n",
    "import os, sys, re, math, shutil\n",
    "import matplotlib.pyplot as plt\n",
    "from matplotlib import collections  as mc\n",
    "from matplotlib import dates\n",
    "import datetime\n",
    "import urllib.request\n",
    "from pyrocko.plot.gmtpy import GMT\n",
    "from zoneinfo import ZoneInfo\n",
    "\n",
    "#obspy\n",
    "from obspy import read_inventory\n",
    "from obspy.core.stream import Stream\n",
    "from obspy.clients.fdsn.client import Client\n",
    "from obspy import UTCDateTime\n",
    "import pytz"
   ]
  },
  {
   "cell_type": "code",
   "execution_count": 2,
   "metadata": {},
   "outputs": [],
   "source": [
    "workdir='../'\n",
    "catdir =  os.path.join(workdir,'CAT')\n",
    "meta_datadir=os.path.join(workdir,'META_DATA')\n",
    "datadir=os.path.join(workdir,'DATA')"
   ]
  },
  {
   "cell_type": "code",
   "execution_count": 3,
   "metadata": {},
   "outputs": [
    {
     "name": "stdout",
     "output_type": "stream",
     "text": [
      "Number of events: 53\n"
     ]
    }
   ],
   "source": [
    "catname = os.path.join(catdir, 'catologue_flegrei_new_mag2_5.pf')\n",
    "\n",
    "cat = model.load_events(catname)\n",
    "print('Number of events:', len(cat))"
   ]
  },
  {
   "cell_type": "code",
   "execution_count": 4,
   "metadata": {},
   "outputs": [
    {
     "name": "stdout",
     "output_type": "stream",
     "text": [
      "Inventory created at 2024-01-16T14:42:48.667000Z\n",
      "\tCreated by: INGV-ONT WEB SERVICE: fdsnws-station | version: 1.1.57\n",
      "\t\t    /exist/apps/fdsn-station/fdsnws/station/1/query?starttime=2014-01-...\n",
      "\tSending institution: eXistDB (INGV-ONT)\n",
      "\tContains:\n",
      "\t\tNetworks (3):\n",
      "\t\t\tIV, IX, ZM\n",
      "\t\tStations (49):\n",
      "\t\t\tIV.CAAM (Accademia Aeronautica Pozzuoli)\n",
      "\t\t\tIV.CAFL (Arco Felice)\n",
      "\t\t\tIV.CAWE (Astroni Ovest - Stazione Osservatorio Vesuviano)\n",
      "\t\t\tIV.CBAC (Campi Flegrei, Castello di Baia - Stazione Osservatorio Vesu)\n",
      "\t\t\tIV.CCAP (Capo Posillipo C. acqisiz. - Stazione Osservatorio Vesuviano)\n",
      "\t\t\tIV.CFMN (Monte Nuovo)\n",
      "\t\t\tIV.CMIS (Faro di Capo Miseno - Stazione Osservatorio Vesuviano)\n",
      "\t\t\tIV.CMSN (Monte S.Angelo)\n",
      "\t\t\tIV.CMTS (Campi Flegrei, Via Metastasio CNR-IRC)\n",
      "\t\t\tIV.CNIS (Campi Flegrei - Isola di Nisida)\n",
      "\t\t\tIV.COLB (Campi Flegrei, Galleria Monte Olibano, Stazione Osservatorio)\n",
      "\t\t\tIV.CPIS (Campi Flegrei - Fumarola Pisciarelli)\n",
      "\t\t\tIV.CPOZ (Darsena Pozzuoli - Stazione Osservatorio Vesuviano)\n",
      "\t\t\tIV.CQUE (Campi Flegrei Quarto EST - Stazione Osservatorio Vesuviano)\n",
      "\t\t\tIV.CRTO (Vesuvio - Cratere Ovest)\n",
      "\t\t\tIV.CSFT (Campi Flegrei - Cratere Solfatara, Interno)\n",
      "\t\t\tIV.CSOB (Solfatara Bordo Cratere - Stazione Osservatorio Vesuviano)\n",
      "\t\t\tIV.CSTH (Solfatara Tennis Hotel - Stazione Osservatorio Vesuviano)\n",
      "\t\t\tIV.IBCM (IBCM)\n",
      "\t\t\tIV.ICVJ (ICVJ)\n",
      "\t\t\tIV.IFOR (Ischia - Faro Punta Imperatore)\n",
      "\t\t\tIV.IMTC (Ischia - Monte Corvo)\n",
      "\t\t\tIV.IOCA (Ischia - Osservatorio Casamicciola)\n",
      "\t\t\tIV.IPSM (Ischia Porto, Stazione Osservartorio Vesuviano)\n",
      "\t\t\tIV.IVLC (Ischia Villa la Colombaia, Stazione Osservartorio Vesuviano)\n",
      "\t\t\tIV.MODR (Mondragone)\n",
      "\t\t\tIV.OVO (OSSERVATORIO VESUVIANO)\n",
      "\t\t\tIV.PAOL (Paolisi)\n",
      "\t\t\tIV.PIGN (Pignataro Maggiore (CE))\n",
      "\t\t\tIV.PTMR (Procida - Terra Murata, Stazione Osservatorio Vesuviano)\n",
      "\t\t\tIV.SORR (Penisola sorrentina - Stazione Osservatorio Vesuviano)\n",
      "\t\t\tIV.VARP (Vesuvio - Array Permanente)\n",
      "\t\t\tIV.VBKE (Vesuvio Bunker Est - Stazione Osservatorio Vesuviano)\n",
      "\t\t\tIV.VBKN (Vesuvio - Bunker Nord, Stazione Osservatorio Vesuviano)\n",
      "\t\t\tIV.VBKS (Vesuvio Bunker Sud - Stazione Osservatorio Vesuviano)\n",
      "\t\t\tIV.VBKW (Vesuvio Bunker Ovest - Stazione Osservatorio Vesuviano)\n",
      "\t\t\tIV.VCNE (Vesuvio Cratere Nord-Est - Stazione Osservatorio Vesuviano)\n",
      "\t\t\tIV.VCRE (Vesuvio - Cratere Est, Stazione Osservatorio Vesuviano)\n",
      "\t\t\tIV.VPOB (Pollena - Stazione Osservatorio Vesuviano)\n",
      "\t\t\tIV.VTIR (Vesuvio - Forestale)\n",
      "\t\t\tIV.VTRZ (Vesuvio - Terzigno)\n",
      "\t\t\tIV.VVDG (Vesuvio Valle del Gigante)\n",
      "\t\t\tIX.NAPI (Station Complesso Universitario Monte Sant`Angelo, Italy)\n",
      "\t\t\tZM.T1361 (Lacco Ameno (NA))\n",
      "\t\t\tZM.T1363 (Casamicciola - Cretaio)\n",
      "\t\t\tZM.T1365 (Barano (NA))\n",
      "\t\t\tZM.T1366 (Casamicciola (NA))\n",
      "\t\t\tZM.T1367 (Casamicciola - La Rita)\n",
      "\t\t\tZM.T1368 (Barano (NA))\n",
      "\t\tChannels (309):\n",
      "\t\t\tIV.CAAM..HHZ (2x), IV.CAAM..HHN (2x), IV.CAAM..HHE (2x), \n",
      "\t\t\tIV.CAAM..HNZ, IV.CAAM..HNN, IV.CAAM..HNE, IV.CAFL..HHZ, \n",
      "\t\t\tIV.CAFL..HHN, IV.CAFL..HHE, IV.CAWE..EHZ, IV.CAWE..EHN, \n",
      "\t\t\tIV.CAWE..EHE, IV.CBAC..EHZ, IV.CBAC..EHN, IV.CBAC..EHE, \n",
      "\t\t\tIV.CBAC..HHZ, IV.CBAC..HHN, IV.CBAC..HHE, IV.CBAC..HNZ, \n",
      "\t\t\tIV.CBAC..HNN, IV.CBAC..HNE, IV.CCAP..EHZ, IV.CCAP..EHN, \n",
      "\t\t\tIV.CCAP..EHE, IV.CFMN..HHZ (2x), IV.CFMN..HHN (2x), \n",
      "\t\t\tIV.CFMN..HHE (2x), IV.CFMN..HNZ, IV.CFMN..HNN, IV.CFMN..HNE, \n",
      "\t\t\tIV.CMIS..HHZ (2x), IV.CMIS..HHN (2x), IV.CMIS..HHE (2x), \n",
      "\t\t\tIV.CMIS..HNZ, IV.CMIS..HNN, IV.CMIS..HNE, IV.CMSN..HHZ, \n",
      "\t\t\tIV.CMSN..HHN, IV.CMSN..HHE, IV.CMTS..EHZ, IV.CMTS..EHN, \n",
      "\t\t\tIV.CMTS..EHE, IV.CNIS..HHZ, IV.CNIS..HHN, IV.CNIS..HHE, \n",
      "\t\t\tIV.CNIS..HNZ (2x), IV.CNIS..HNN (2x), IV.CNIS..HNE (2x), \n",
      "\t\t\tIV.COLB..HHZ (2x), IV.COLB..HHN (2x), IV.COLB..HHE (2x), \n",
      "\t\t\tIV.COLB..HNZ, IV.COLB..HNN, IV.COLB..HNE, IV.CPIS..HHZ (2x), \n",
      "\t\t\tIV.CPIS..HHN (2x), IV.CPIS..HHE (2x), IV.CPOZ..HHZ (3x), \n",
      "\t\t\tIV.CPOZ..HHN (3x), IV.CPOZ..HHE (3x), IV.CPOZ..HNZ, IV.CPOZ..HNN, \n",
      "\t\t\tIV.CPOZ..HNE, IV.CQUE..HHZ, IV.CQUE..HHN, IV.CQUE..HHE, \n",
      "\t\t\tIV.CQUE..HNZ (2x), IV.CQUE..HNN (2x), IV.CQUE..HNE (2x), \n",
      "\t\t\tIV.CRTO..HHZ, IV.CRTO..HHN, IV.CRTO..HHE, IV.CSFT..HHZ, \n",
      "\t\t\tIV.CSFT..HHN, IV.CSFT..HHE, IV.CSOB..HHZ (2x), IV.CSOB..HHN (2x), \n",
      "\t\t\tIV.CSOB..HHE (2x), IV.CSOB..HNZ (2x), IV.CSOB..HNN (2x), \n",
      "\t\t\tIV.CSOB..HNE (2x), IV.CSTH..EHZ, IV.CSTH..EHN, IV.CSTH..EHE, \n",
      "\t\t\tIV.CSTH..HHZ, IV.CSTH..HHN, IV.CSTH..HHE, IV.CSTH..HNZ, \n",
      "\t\t\tIV.CSTH..HNN, IV.CSTH..HNE, IV.IBCM..EHZ, IV.IBCM..EHN, \n",
      "\t\t\tIV.IBCM..EHE, IV.IBCM..HNZ, IV.IBCM..HNN, IV.IBCM..HNE, \n",
      "\t\t\tIV.ICVJ..EHZ, IV.ICVJ..EHN, IV.ICVJ..EHE, IV.IFOR..HHZ, \n",
      "\t\t\tIV.IFOR..HHN, IV.IFOR..HHE, IV.IMTC..HHZ, IV.IMTC..HHN, \n",
      "\t\t\tIV.IMTC..HHE, IV.IOCA..HHZ (2x), IV.IOCA..HHN (2x), \n",
      "\t\t\tIV.IOCA..HHE (2x), IV.IOCA..HNZ (2x), IV.IOCA..HNN (2x), \n",
      "\t\t\tIV.IOCA..HNE (2x), IV.IPSM..HHZ, IV.IPSM..HHN, IV.IPSM..HHE, \n",
      "\t\t\tIV.IVLC..HHZ, IV.IVLC..HHN, IV.IVLC..HHE, IV.MODR..BHZ, \n",
      "\t\t\tIV.MODR..BHN, IV.MODR..BHE, IV.MODR..HHZ, IV.MODR..HHN, \n",
      "\t\t\tIV.MODR..HHE, IV.MODR..LHZ, IV.MODR..LHN, IV.MODR..LHE, \n",
      "\t\t\tIV.MODR..VHZ, IV.MODR..VHN, IV.MODR..VHE, IV.OVO..HHZ, IV.OVO..HHN\n",
      "\t\t\tIV.OVO..HHE, IV.PAOL..BHZ, IV.PAOL..BHN, IV.PAOL..BHE, \n",
      "\t\t\tIV.PAOL..HHZ, IV.PAOL..HHN, IV.PAOL..HHE, IV.PAOL..HNZ, \n",
      "\t\t\tIV.PAOL..HNN, IV.PAOL..HNE, IV.PAOL..LHZ, IV.PAOL..LHN, \n",
      "\t\t\tIV.PAOL..LHE, IV.PAOL..VHZ, IV.PAOL..VHN, IV.PAOL..VHE, \n",
      "\t\t\tIV.PIGN..BHZ, IV.PIGN..BHN, IV.PIGN..BHE, IV.PIGN..HHZ (2x), \n",
      "\t\t\tIV.PIGN..HHN (2x), IV.PIGN..HHE (2x), IV.PIGN..HNZ (2x), \n",
      "\t\t\tIV.PIGN..HNN (2x), IV.PIGN..HNE (2x), IV.PIGN..LHZ, IV.PIGN..LHN, \n",
      "\t\t\tIV.PIGN..LHE, IV.PIGN..VHZ, IV.PIGN..VHN, IV.PIGN..VHE, \n",
      "\t\t\tIV.PTMR..HHZ, IV.PTMR..HHN, IV.PTMR..HHE, IV.PTMR..HNZ, \n",
      "\t\t\tIV.PTMR..HNN, IV.PTMR..HNE, IV.SORR..HHZ, IV.SORR..HHN, \n",
      "\t\t\tIV.SORR..HHE, IV.SORR..HNZ, IV.SORR..HNN, IV.SORR..HNE, \n",
      "\t\t\tIV.VARP..HHZ, IV.VARP..HHN, IV.VARP..HHE, IV.VBKE..HHZ, \n",
      "\t\t\tIV.VBKE..HHN, IV.VBKE..HHE, IV.VBKE..HNZ, IV.VBKE..HNN, \n",
      "\t\t\tIV.VBKE..HNE, IV.VBKN..HHZ, IV.VBKN..HHN, IV.VBKN..HHE, \n",
      "\t\t\tIV.VBKS..HHZ, IV.VBKS..HHN, IV.VBKS..HHE, IV.VBKS..HNZ, \n",
      "\t\t\tIV.VBKS..HNN, IV.VBKS..HNE, IV.VBKW..HHZ, IV.VBKW..HHN, \n",
      "\t\t\tIV.VBKW..HHE, IV.VBKW..HNZ, IV.VBKW..HNN, IV.VBKW..HNE, \n",
      "\t\t\tIV.VCNE..EHZ (2x), IV.VCNE..EHN, IV.VCNE..EHE, IV.VCNE..EH2, \n",
      "\t\t\tIV.VCNE..EH3, IV.VCNE..HHZ, IV.VCNE..HHN, IV.VCNE..HHE, \n",
      "\t\t\tIV.VCNE..HNZ, IV.VCNE..HNN, IV.VCNE..HNE, IV.VCRE..HHZ, \n",
      "\t\t\tIV.VCRE..HHN, IV.VCRE..HHE, IV.VPOB..HHZ, IV.VPOB..HHN, \n",
      "\t\t\tIV.VPOB..HHE, IV.VPOB..HNZ, IV.VPOB..HNN, IV.VPOB..HNE, \n",
      "\t\t\tIV.VTIR..HHZ, IV.VTIR..HHN, IV.VTIR..HHE, IV.VTRZ..HHZ, \n",
      "\t\t\tIV.VTRZ..HHN, IV.VTRZ..HHE, IV.VTRZ..HNZ, IV.VTRZ..HNN, \n",
      "\t\t\tIV.VTRZ..HNE, IV.VVDG..HHZ, IV.VVDG..HHN, IV.VVDG..HHE, \n",
      "\t\t\tIX.NAPI.01.HNZ, IX.NAPI.01.HNN, IX.NAPI.01.HNE, ZM.T1361..EHZ, \n",
      "\t\t\tZM.T1361..EHN, ZM.T1361..EHE, ZM.T1361..HNZ, ZM.T1361..HNN, \n",
      "\t\t\tZM.T1361..HNE, ZM.T1363..EHZ, ZM.T1363..EHN, ZM.T1363..EHE, \n",
      "\t\t\tZM.T1363..HNZ, ZM.T1363..HNN, ZM.T1363..HNE, ZM.T1365..EHZ, \n",
      "\t\t\tZM.T1365..EHN, ZM.T1365..EHE, ZM.T1365..HNZ, ZM.T1365..HNN, \n",
      "\t\t\tZM.T1365..HNE, ZM.T1366..EHZ, ZM.T1366..EHN, ZM.T1366..EHE, \n",
      "\t\t\tZM.T1366..HNZ, ZM.T1366..HNN, ZM.T1366..HNE, ZM.T1367..EHZ, \n",
      "\t\t\tZM.T1367..EHN, ZM.T1367..EHE, ZM.T1368..EHZ, ZM.T1368..EHN, \n",
      "\t\t\tZM.T1368..EHE\n"
     ]
    }
   ],
   "source": [
    "client=Client('INGV')\n",
    "stations_name=os.path.join(meta_datadir, 'stations_flegrei_INGV.xml')\n",
    "stations=read_inventory(stations_name)                                 #read\n",
    "\n",
    "print(stations)"
   ]
  },
  {
   "cell_type": "code",
   "execution_count": 9,
   "metadata": {},
   "outputs": [
    {
     "name": "stdout",
     "output_type": "stream",
     "text": [
      "2015-10-07 09:10:50.680\n"
     ]
    },
    {
     "data": {
      "text/plain": [
       "2015-10-07T09:10:30.680000Z"
      ]
     },
     "execution_count": 9,
     "metadata": {},
     "output_type": "execute_result"
    }
   ],
   "source": [
    "################################################################################\n",
    "########## DO NOT USE !!!datetime.datetime.fromtimestamp(ev.time)!!! ##########\n",
    "################################################################################\n",
    "\n",
    "t = util.time_to_str(cat[0].time)\n",
    "print(t)\n",
    "UTCDateTime(t)-20\n"
   ]
  },
  {
   "cell_type": "code",
   "execution_count": 10,
   "metadata": {},
   "outputs": [
    {
     "name": "stdout",
     "output_type": "stream",
     "text": [
      "origin UTC time event: 2015-10-07 09:10:50.680\n",
      "extimated magnitude: 2.5\n",
      "traces found: 9\n",
      "saved!\n",
      "origin UTC time event: 2022-03-16 14:14:34.800\n",
      "extimated magnitude: 3.47\n"
     ]
    },
    {
     "name": "stderr",
     "output_type": "stream",
     "text": [
      "/opt/homebrew/lib/python3.11/site-packages/obspy/io/mseed/core.py:821: UserWarning: File will be written with more than one different encodings.\n",
      "This might have a negative influence on the compatibility with other programs.\n",
      "  warnings.warn(msg % 'encodings')\n"
     ]
    },
    {
     "name": "stdout",
     "output_type": "stream",
     "text": [
      "traces found: 66\n",
      "saved!\n",
      "origin UTC time event: 2022-03-29 17:45:32.360\n",
      "extimated magnitude: 3.57\n"
     ]
    },
    {
     "name": "stderr",
     "output_type": "stream",
     "text": [
      "/opt/homebrew/lib/python3.11/site-packages/obspy/io/mseed/core.py:821: UserWarning: File will be written with more than one different encodings.\n",
      "This might have a negative influence on the compatibility with other programs.\n",
      "  warnings.warn(msg % 'encodings')\n"
     ]
    },
    {
     "name": "stdout",
     "output_type": "stream",
     "text": [
      "traces found: 72\n",
      "saved!\n",
      "origin UTC time event: 2022-07-30 03:27:48.930\n",
      "extimated magnitude: 2.51\n"
     ]
    },
    {
     "name": "stderr",
     "output_type": "stream",
     "text": [
      "/opt/homebrew/lib/python3.11/site-packages/obspy/io/mseed/core.py:821: UserWarning: File will be written with more than one different encodings.\n",
      "This might have a negative influence on the compatibility with other programs.\n",
      "  warnings.warn(msg % 'encodings')\n"
     ]
    },
    {
     "name": "stdout",
     "output_type": "stream",
     "text": [
      "traces found: 63\n",
      "saved!\n",
      "origin UTC time event: 2022-11-12 21:37:54.760\n",
      "extimated magnitude: 2.67\n"
     ]
    },
    {
     "name": "stderr",
     "output_type": "stream",
     "text": [
      "/opt/homebrew/lib/python3.11/site-packages/obspy/io/mseed/core.py:821: UserWarning: File will be written with more than one different encodings.\n",
      "This might have a negative influence on the compatibility with other programs.\n",
      "  warnings.warn(msg % 'encodings')\n"
     ]
    },
    {
     "name": "stdout",
     "output_type": "stream",
     "text": [
      "traces found: 72\n",
      "saved!\n",
      "origin UTC time event: 2022-11-30 02:34:39.010\n",
      "extimated magnitude: 2.53\n"
     ]
    },
    {
     "name": "stderr",
     "output_type": "stream",
     "text": [
      "/opt/homebrew/lib/python3.11/site-packages/obspy/io/mseed/core.py:821: UserWarning: File will be written with more than one different encodings.\n",
      "This might have a negative influence on the compatibility with other programs.\n",
      "  warnings.warn(msg % 'encodings')\n"
     ]
    },
    {
     "name": "stdout",
     "output_type": "stream",
     "text": [
      "traces found: 66\n",
      "saved!\n",
      "origin UTC time event: 2023-01-19 08:44:30.190\n",
      "extimated magnitude: 2.59\n"
     ]
    },
    {
     "name": "stderr",
     "output_type": "stream",
     "text": [
      "/opt/homebrew/lib/python3.11/site-packages/obspy/io/mseed/core.py:821: UserWarning: File will be written with more than one different encodings.\n",
      "This might have a negative influence on the compatibility with other programs.\n",
      "  warnings.warn(msg % 'encodings')\n"
     ]
    },
    {
     "name": "stdout",
     "output_type": "stream",
     "text": [
      "traces found: 69\n",
      "saved!\n",
      "origin UTC time event: 2023-02-05 00:45:36.160\n",
      "extimated magnitude: 2.97\n"
     ]
    },
    {
     "name": "stderr",
     "output_type": "stream",
     "text": [
      "/opt/homebrew/lib/python3.11/site-packages/obspy/io/mseed/core.py:821: UserWarning: File will be written with more than one different encodings.\n",
      "This might have a negative influence on the compatibility with other programs.\n",
      "  warnings.warn(msg % 'encodings')\n"
     ]
    },
    {
     "name": "stdout",
     "output_type": "stream",
     "text": [
      "traces found: 72\n",
      "saved!\n",
      "origin UTC time event: 2023-03-04 13:15:20.410\n",
      "extimated magnitude: 2.6\n"
     ]
    },
    {
     "name": "stderr",
     "output_type": "stream",
     "text": [
      "/opt/homebrew/lib/python3.11/site-packages/obspy/io/mseed/core.py:821: UserWarning: File will be written with more than one different encodings.\n",
      "This might have a negative influence on the compatibility with other programs.\n",
      "  warnings.warn(msg % 'encodings')\n"
     ]
    },
    {
     "name": "stdout",
     "output_type": "stream",
     "text": [
      "traces found: 72\n",
      "saved!\n",
      "origin UTC time event: 2023-03-13 22:40:53.580\n",
      "extimated magnitude: 2.83\n"
     ]
    },
    {
     "name": "stderr",
     "output_type": "stream",
     "text": [
      "/opt/homebrew/lib/python3.11/site-packages/obspy/io/mseed/core.py:821: UserWarning: File will be written with more than one different encodings.\n",
      "This might have a negative influence on the compatibility with other programs.\n",
      "  warnings.warn(msg % 'encodings')\n"
     ]
    },
    {
     "name": "stdout",
     "output_type": "stream",
     "text": [
      "traces found: 78\n",
      "saved!\n",
      "origin UTC time event: 2023-03-24 05:24:43.090\n",
      "extimated magnitude: 2.59\n"
     ]
    },
    {
     "name": "stderr",
     "output_type": "stream",
     "text": [
      "/opt/homebrew/lib/python3.11/site-packages/obspy/io/mseed/core.py:821: UserWarning: File will be written with more than one different encodings.\n",
      "This might have a negative influence on the compatibility with other programs.\n",
      "  warnings.warn(msg % 'encodings')\n"
     ]
    },
    {
     "name": "stdout",
     "output_type": "stream",
     "text": [
      "traces found: 75\n",
      "saved!\n",
      "origin UTC time event: 2023-04-10 03:54:45.480\n",
      "extimated magnitude: 2.92\n"
     ]
    },
    {
     "name": "stderr",
     "output_type": "stream",
     "text": [
      "/opt/homebrew/lib/python3.11/site-packages/obspy/io/mseed/core.py:821: UserWarning: File will be written with more than one different encodings.\n",
      "This might have a negative influence on the compatibility with other programs.\n",
      "  warnings.warn(msg % 'encodings')\n"
     ]
    },
    {
     "name": "stdout",
     "output_type": "stream",
     "text": [
      "traces found: 69\n",
      "saved!\n",
      "origin UTC time event: 2023-04-15 05:54:37.220\n",
      "extimated magnitude: 2.63\n"
     ]
    },
    {
     "name": "stderr",
     "output_type": "stream",
     "text": [
      "/opt/homebrew/lib/python3.11/site-packages/obspy/io/mseed/core.py:821: UserWarning: File will be written with more than one different encodings.\n",
      "This might have a negative influence on the compatibility with other programs.\n",
      "  warnings.warn(msg % 'encodings')\n"
     ]
    },
    {
     "name": "stdout",
     "output_type": "stream",
     "text": [
      "traces found: 69\n",
      "saved!\n",
      "origin UTC time event: 2023-04-15 05:54:40.430\n",
      "extimated magnitude: 2.71\n"
     ]
    },
    {
     "name": "stderr",
     "output_type": "stream",
     "text": [
      "/opt/homebrew/lib/python3.11/site-packages/obspy/io/mseed/core.py:821: UserWarning: File will be written with more than one different encodings.\n",
      "This might have a negative influence on the compatibility with other programs.\n",
      "  warnings.warn(msg % 'encodings')\n"
     ]
    },
    {
     "name": "stdout",
     "output_type": "stream",
     "text": [
      "traces found: 69\n",
      "saved!\n",
      "origin UTC time event: 2023-05-08 02:28:34.260\n",
      "extimated magnitude: 3.48\n"
     ]
    },
    {
     "name": "stderr",
     "output_type": "stream",
     "text": [
      "/opt/homebrew/lib/python3.11/site-packages/obspy/io/mseed/core.py:821: UserWarning: File will be written with more than one different encodings.\n",
      "This might have a negative influence on the compatibility with other programs.\n",
      "  warnings.warn(msg % 'encodings')\n"
     ]
    },
    {
     "name": "stdout",
     "output_type": "stream",
     "text": [
      "traces found: 98\n",
      "saved!\n",
      "origin UTC time event: 2023-05-08 22:33:17.410\n",
      "extimated magnitude: 2.69\n"
     ]
    },
    {
     "name": "stderr",
     "output_type": "stream",
     "text": [
      "/opt/homebrew/lib/python3.11/site-packages/obspy/io/mseed/core.py:821: UserWarning: File will be written with more than one different encodings.\n",
      "This might have a negative influence on the compatibility with other programs.\n",
      "  warnings.warn(msg % 'encodings')\n"
     ]
    },
    {
     "name": "stdout",
     "output_type": "stream",
     "text": [
      "traces found: 94\n",
      "saved!\n",
      "origin UTC time event: 2023-06-11 06:44:25.720\n",
      "extimated magnitude: 3.56\n"
     ]
    },
    {
     "name": "stderr",
     "output_type": "stream",
     "text": [
      "/opt/homebrew/lib/python3.11/site-packages/obspy/io/mseed/core.py:821: UserWarning: File will be written with more than one different encodings.\n",
      "This might have a negative influence on the compatibility with other programs.\n",
      "  warnings.warn(msg % 'encodings')\n"
     ]
    },
    {
     "name": "stdout",
     "output_type": "stream",
     "text": [
      "traces found: 81\n",
      "saved!\n",
      "origin UTC time event: 2023-06-15 15:39:40.320\n",
      "extimated magnitude: 2.89\n"
     ]
    },
    {
     "name": "stderr",
     "output_type": "stream",
     "text": [
      "/opt/homebrew/lib/python3.11/site-packages/obspy/io/mseed/core.py:821: UserWarning: File will be written with more than one different encodings.\n",
      "This might have a negative influence on the compatibility with other programs.\n",
      "  warnings.warn(msg % 'encodings')\n"
     ]
    },
    {
     "name": "stdout",
     "output_type": "stream",
     "text": [
      "traces found: 75\n",
      "saved!\n",
      "origin UTC time event: 2023-08-18 00:01:28.290\n",
      "extimated magnitude: 2.67\n"
     ]
    },
    {
     "name": "stderr",
     "output_type": "stream",
     "text": [
      "/opt/homebrew/lib/python3.11/site-packages/obspy/io/mseed/core.py:821: UserWarning: File will be written with more than one different encodings.\n",
      "This might have a negative influence on the compatibility with other programs.\n",
      "  warnings.warn(msg % 'encodings')\n"
     ]
    },
    {
     "name": "stdout",
     "output_type": "stream",
     "text": [
      "traces found: 79\n",
      "saved!\n",
      "origin UTC time event: 2023-08-18 04:09:59.430\n",
      "extimated magnitude: 3.2\n"
     ]
    },
    {
     "name": "stderr",
     "output_type": "stream",
     "text": [
      "/opt/homebrew/lib/python3.11/site-packages/obspy/io/mseed/core.py:821: UserWarning: File will be written with more than one different encodings.\n",
      "This might have a negative influence on the compatibility with other programs.\n",
      "  warnings.warn(msg % 'encodings')\n"
     ]
    },
    {
     "name": "stdout",
     "output_type": "stream",
     "text": [
      "traces found: 81\n",
      "saved!\n",
      "origin UTC time event: 2023-08-18 04:10:30.410\n",
      "extimated magnitude: 2.53\n"
     ]
    },
    {
     "name": "stderr",
     "output_type": "stream",
     "text": [
      "/opt/homebrew/lib/python3.11/site-packages/obspy/io/mseed/core.py:821: UserWarning: File will be written with more than one different encodings.\n",
      "This might have a negative influence on the compatibility with other programs.\n",
      "  warnings.warn(msg % 'encodings')\n"
     ]
    },
    {
     "name": "stdout",
     "output_type": "stream",
     "text": [
      "traces found: 81\n",
      "saved!\n",
      "origin UTC time event: 2023-08-18 04:18:05.660\n",
      "extimated magnitude: 3.64\n"
     ]
    },
    {
     "name": "stderr",
     "output_type": "stream",
     "text": [
      "/opt/homebrew/lib/python3.11/site-packages/obspy/io/mseed/core.py:821: UserWarning: File will be written with more than one different encodings.\n",
      "This might have a negative influence on the compatibility with other programs.\n",
      "  warnings.warn(msg % 'encodings')\n"
     ]
    },
    {
     "name": "stdout",
     "output_type": "stream",
     "text": [
      "traces found: 96\n",
      "saved!\n",
      "origin UTC time event: 2023-08-18 04:22:49.850\n",
      "extimated magnitude: 3.12\n"
     ]
    },
    {
     "name": "stderr",
     "output_type": "stream",
     "text": [
      "/opt/homebrew/lib/python3.11/site-packages/obspy/io/mseed/core.py:821: UserWarning: File will be written with more than one different encodings.\n",
      "This might have a negative influence on the compatibility with other programs.\n",
      "  warnings.warn(msg % 'encodings')\n"
     ]
    },
    {
     "name": "stdout",
     "output_type": "stream",
     "text": [
      "traces found: 81\n",
      "saved!\n",
      "origin UTC time event: 2023-08-27 21:14:23.450\n",
      "extimated magnitude: 2.61\n"
     ]
    },
    {
     "name": "stderr",
     "output_type": "stream",
     "text": [
      "/opt/homebrew/lib/python3.11/site-packages/obspy/io/mseed/core.py:821: UserWarning: File will be written with more than one different encodings.\n",
      "This might have a negative influence on the compatibility with other programs.\n",
      "  warnings.warn(msg % 'encodings')\n"
     ]
    },
    {
     "name": "stdout",
     "output_type": "stream",
     "text": [
      "traces found: 81\n",
      "saved!\n",
      "origin UTC time event: 2023-09-07 17:45:28.780\n",
      "extimated magnitude: 3.79\n"
     ]
    },
    {
     "name": "stderr",
     "output_type": "stream",
     "text": [
      "/opt/homebrew/lib/python3.11/site-packages/obspy/io/mseed/core.py:821: UserWarning: File will be written with more than one different encodings.\n",
      "This might have a negative influence on the compatibility with other programs.\n",
      "  warnings.warn(msg % 'encodings')\n"
     ]
    },
    {
     "name": "stdout",
     "output_type": "stream",
     "text": [
      "traces found: 81\n",
      "saved!\n",
      "origin UTC time event: 2023-09-12 02:28:50.200\n",
      "extimated magnitude: 2.9\n"
     ]
    },
    {
     "name": "stderr",
     "output_type": "stream",
     "text": [
      "/opt/homebrew/lib/python3.11/site-packages/obspy/io/mseed/core.py:821: UserWarning: File will be written with more than one different encodings.\n",
      "This might have a negative influence on the compatibility with other programs.\n",
      "  warnings.warn(msg % 'encodings')\n"
     ]
    },
    {
     "name": "stdout",
     "output_type": "stream",
     "text": [
      "traces found: 78\n",
      "saved!\n",
      "origin UTC time event: 2023-09-20 22:54:29.079\n",
      "extimated magnitude: 2.7\n"
     ]
    },
    {
     "name": "stderr",
     "output_type": "stream",
     "text": [
      "/opt/homebrew/lib/python3.11/site-packages/obspy/io/mseed/core.py:821: UserWarning: File will be written with more than one different encodings.\n",
      "This might have a negative influence on the compatibility with other programs.\n",
      "  warnings.warn(msg % 'encodings')\n"
     ]
    },
    {
     "name": "stdout",
     "output_type": "stream",
     "text": [
      "traces found: 81\n",
      "saved!\n",
      "origin UTC time event: 2023-09-22 09:01:59.950\n",
      "extimated magnitude: 3.2\n"
     ]
    },
    {
     "name": "stderr",
     "output_type": "stream",
     "text": [
      "/opt/homebrew/lib/python3.11/site-packages/obspy/io/mseed/core.py:821: UserWarning: File will be written with more than one different encodings.\n",
      "This might have a negative influence on the compatibility with other programs.\n",
      "  warnings.warn(msg % 'encodings')\n"
     ]
    },
    {
     "name": "stdout",
     "output_type": "stream",
     "text": [
      "traces found: 78\n",
      "saved!\n",
      "origin UTC time event: 2023-09-24 15:35:02.029\n",
      "extimated magnitude: 2.8\n"
     ]
    },
    {
     "name": "stderr",
     "output_type": "stream",
     "text": [
      "/opt/homebrew/lib/python3.11/site-packages/obspy/io/mseed/core.py:821: UserWarning: File will be written with more than one different encodings.\n",
      "This might have a negative influence on the compatibility with other programs.\n",
      "  warnings.warn(msg % 'encodings')\n"
     ]
    },
    {
     "name": "stdout",
     "output_type": "stream",
     "text": [
      "traces found: 72\n",
      "saved!\n",
      "origin UTC time event: 2023-09-26 07:10:29.589\n",
      "extimated magnitude: 3.3\n"
     ]
    },
    {
     "name": "stderr",
     "output_type": "stream",
     "text": [
      "/opt/homebrew/lib/python3.11/site-packages/obspy/io/mseed/core.py:821: UserWarning: File will be written with more than one different encodings.\n",
      "This might have a negative influence on the compatibility with other programs.\n",
      "  warnings.warn(msg % 'encodings')\n"
     ]
    },
    {
     "name": "stdout",
     "output_type": "stream",
     "text": [
      "traces found: 73\n",
      "saved!\n",
      "origin UTC time event: 2023-09-27 01:35:34.349\n",
      "extimated magnitude: 4.2\n"
     ]
    },
    {
     "name": "stderr",
     "output_type": "stream",
     "text": [
      "/opt/homebrew/lib/python3.11/site-packages/obspy/io/mseed/core.py:821: UserWarning: File will be written with more than one different encodings.\n",
      "This might have a negative influence on the compatibility with other programs.\n",
      "  warnings.warn(msg % 'encodings')\n"
     ]
    },
    {
     "name": "stdout",
     "output_type": "stream",
     "text": [
      "traces found: 75\n",
      "saved!\n",
      "origin UTC time event: 2023-09-27 09:16:18.140\n",
      "extimated magnitude: 2.8\n"
     ]
    },
    {
     "name": "stderr",
     "output_type": "stream",
     "text": [
      "/opt/homebrew/lib/python3.11/site-packages/obspy/io/mseed/core.py:821: UserWarning: File will be written with more than one different encodings.\n",
      "This might have a negative influence on the compatibility with other programs.\n",
      "  warnings.warn(msg % 'encodings')\n"
     ]
    },
    {
     "name": "stdout",
     "output_type": "stream",
     "text": [
      "traces found: 75\n",
      "saved!\n",
      "origin UTC time event: 2023-09-29 21:57:58.319\n",
      "extimated magnitude: 2.7\n"
     ]
    },
    {
     "name": "stderr",
     "output_type": "stream",
     "text": [
      "/opt/homebrew/lib/python3.11/site-packages/obspy/io/mseed/core.py:821: UserWarning: File will be written with more than one different encodings.\n",
      "This might have a negative influence on the compatibility with other programs.\n",
      "  warnings.warn(msg % 'encodings')\n"
     ]
    },
    {
     "name": "stdout",
     "output_type": "stream",
     "text": [
      "traces found: 79\n",
      "saved!\n",
      "origin UTC time event: 2023-10-01 13:33:09.019\n",
      "extimated magnitude: 2.9\n"
     ]
    },
    {
     "name": "stderr",
     "output_type": "stream",
     "text": [
      "/opt/homebrew/lib/python3.11/site-packages/obspy/io/mseed/core.py:821: UserWarning: File will be written with more than one different encodings.\n",
      "This might have a negative influence on the compatibility with other programs.\n",
      "  warnings.warn(msg % 'encodings')\n"
     ]
    },
    {
     "name": "stdout",
     "output_type": "stream",
     "text": [
      "traces found: 81\n",
      "saved!\n",
      "origin UTC time event: 2023-10-02 20:08:26.690\n",
      "extimated magnitude: 4.0\n"
     ]
    },
    {
     "name": "stderr",
     "output_type": "stream",
     "text": [
      "/opt/homebrew/lib/python3.11/site-packages/obspy/io/mseed/core.py:821: UserWarning: File will be written with more than one different encodings.\n",
      "This might have a negative influence on the compatibility with other programs.\n",
      "  warnings.warn(msg % 'encodings')\n"
     ]
    },
    {
     "name": "stdout",
     "output_type": "stream",
     "text": [
      "traces found: 75\n",
      "saved!\n",
      "origin UTC time event: 2023-10-04 08:46:55.029\n",
      "extimated magnitude: 2.6\n"
     ]
    },
    {
     "name": "stderr",
     "output_type": "stream",
     "text": [
      "/opt/homebrew/lib/python3.11/site-packages/obspy/io/mseed/core.py:821: UserWarning: File will be written with more than one different encodings.\n",
      "This might have a negative influence on the compatibility with other programs.\n",
      "  warnings.warn(msg % 'encodings')\n"
     ]
    },
    {
     "name": "stdout",
     "output_type": "stream",
     "text": [
      "traces found: 78\n",
      "saved!\n",
      "origin UTC time event: 2023-10-16 10:36:21.119\n",
      "extimated magnitude: 3.6\n"
     ]
    },
    {
     "name": "stderr",
     "output_type": "stream",
     "text": [
      "/opt/homebrew/lib/python3.11/site-packages/obspy/io/mseed/core.py:821: UserWarning: File will be written with more than one different encodings.\n",
      "This might have a negative influence on the compatibility with other programs.\n",
      "  warnings.warn(msg % 'encodings')\n"
     ]
    },
    {
     "name": "stdout",
     "output_type": "stream",
     "text": [
      "traces found: 78\n",
      "saved!\n",
      "origin UTC time event: 2023-11-23 18:41:46.900\n",
      "extimated magnitude: 3.0\n"
     ]
    },
    {
     "name": "stderr",
     "output_type": "stream",
     "text": [
      "/opt/homebrew/lib/python3.11/site-packages/obspy/io/mseed/core.py:821: UserWarning: File will be written with more than one different encodings.\n",
      "This might have a negative influence on the compatibility with other programs.\n",
      "  warnings.warn(msg % 'encodings')\n"
     ]
    },
    {
     "name": "stdout",
     "output_type": "stream",
     "text": [
      "traces found: 84\n",
      "saved!\n"
     ]
    },
    {
     "name": "stderr",
     "output_type": "stream",
     "text": [
      "/opt/homebrew/lib/python3.11/site-packages/obspy/io/mseed/core.py:821: UserWarning: File will be written with more than one different encodings.\n",
      "This might have a negative influence on the compatibility with other programs.\n",
      "  warnings.warn(msg % 'encodings')\n"
     ]
    }
   ],
   "source": [
    "for ev in cat:\n",
    "    evID=ev.name\n",
    "\n",
    "    #transform UTC time\n",
    "    t = util.time_to_str(ev.time)\n",
    "\n",
    "    print('origin UTC time event:',t)\n",
    "    print('extimated magnitude:',ev.magnitude)\n",
    "\n",
    "    event_start = UTCDateTime(t) - 20\n",
    "    #print('event starts at:',event_start)\n",
    "\n",
    "    event_end=UTCDateTime(t) +40\n",
    "    #print('event ends at:',event_end)\n",
    "\n",
    "\n",
    "    wave=Stream()\n",
    "    for network in stations:\n",
    "        for  station in network.stations:\n",
    "            try:\n",
    "                wave += client.get_waveforms(starttime=event_start,endtime=event_end,\n",
    "                                    network=network.code,station=station.code,location='*', channel='HH?',\n",
    "                                    attach_response=True)\n",
    "            except:\n",
    "                #print(station.code , 'station not recording')\n",
    "                continue\n",
    "\n",
    "    print('traces found:',len(wave.traces))\n",
    "\n",
    "    waveletdir=os.path.join(datadir,evID)\n",
    "    \n",
    "    os.mkdir(waveletdir)\n",
    "\n",
    "    wavelet_name= os.path.join(waveletdir,evID)  \n",
    "    wave.write(wavelet_name +'.mseed',format='MSEED')\n",
    "    print('saved!')"
   ]
  }
 ],
 "metadata": {
  "kernelspec": {
   "display_name": "Python 3",
   "language": "python",
   "name": "python3"
  },
  "language_info": {
   "codemirror_mode": {
    "name": "ipython",
    "version": 3
   },
   "file_extension": ".py",
   "mimetype": "text/x-python",
   "name": "python",
   "nbconvert_exporter": "python",
   "pygments_lexer": "ipython3",
   "version": "3.11.7"
  }
 },
 "nbformat": 4,
 "nbformat_minor": 2
}
