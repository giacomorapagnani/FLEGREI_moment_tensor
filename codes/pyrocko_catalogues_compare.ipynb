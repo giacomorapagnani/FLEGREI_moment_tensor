{
 "cells": [
  {
   "cell_type": "code",
   "execution_count": 1,
   "metadata": {},
   "outputs": [],
   "source": [
    "from pyrocko import util, model, io, trace, moment_tensor, gmtpy\n",
    "from pyrocko import pz\n",
    "from pyrocko import orthodrome as od\n",
    "from pyrocko.io import quakeml\n",
    "from pyrocko.io import stationxml as fdsn\n",
    "from pyrocko.client import catalog\n",
    "from pyrocko.automap import Map\n",
    "import pyrocko.moment_tensor as pmt\n",
    "from seiscloud import plot as scp\n",
    "from seiscloud import cluster as scc\n",
    "import numpy as num\n",
    "import os, sys, re, math, shutil\n",
    "import matplotlib.pyplot as plt\n",
    "from matplotlib import collections  as mc\n",
    "from matplotlib import dates\n",
    "import datetime\n",
    "import urllib.request\n",
    "from pyrocko.plot.gmtpy import GMT"
   ]
  },
  {
   "cell_type": "code",
   "execution_count": 2,
   "metadata": {},
   "outputs": [],
   "source": [
    "workdir='../'\n",
    "catdir =  os.path.join(workdir,'CAT')"
   ]
  },
  {
   "cell_type": "markdown",
   "metadata": {},
   "source": [
    "## GOSSIP: Events where either lat, long, depth or mag are not present"
   ]
  },
  {
   "cell_type": "code",
   "execution_count": null,
   "metadata": {},
   "outputs": [],
   "source": [
    "catname = os.path.join(catdir, 'catologue_flegrei_GOSSIP_complete.pf')\n",
    "\n",
    "cat_c = model.load_events(catname)\n",
    "print('Number of events:', len(cat_c))"
   ]
  },
  {
   "cell_type": "code",
   "execution_count": null,
   "metadata": {},
   "outputs": [],
   "source": [
    "magnitude_missed=[]\n",
    "time=[]\n",
    "for ev in cat_c:\n",
    "    if ev.magnitude==None or ev.lat==None or ev.lon==None or ev.depth==None:\n",
    "        magnitude_missed.append(ev.magnitude)\n",
    "        time.append(ev.time)\n",
    "\n",
    "eq_dates = [datetime.datetime.fromtimestamp(t) for t in time]\n",
    "\n",
    "fig, axs = plt.subplots(1, 1, figsize=(17,6), sharex=True)\n",
    "axs.scatter(eq_dates,magnitude_missed, s=5, color='green')\n",
    "axs.set_ylabel('Magnitude')\n",
    "axs.grid(True)\n",
    "axs.set_xlabel('Time')\n",
    "\n",
    "\n",
    "max=0\n",
    "for mag in magnitude_missed:\n",
    "    if mag != None:\n",
    "        if mag>max:\n",
    "            max=mag\n",
    "print('max magnitude lost:',max)\n",
    "\n"
   ]
  },
  {
   "cell_type": "markdown",
   "metadata": {},
   "source": [
    "## new catalogue with events over a certain magnitude"
   ]
  },
  {
   "cell_type": "markdown",
   "metadata": {},
   "source": [
    "### GOSSIP"
   ]
  },
  {
   "cell_type": "code",
   "execution_count": null,
   "metadata": {},
   "outputs": [],
   "source": [
    "catname = os.path.join(catdir, 'catologue_flegrei_GOSSIP.pf')\n",
    "\n",
    "cat = model.load_events(catname)\n",
    "print('Number of events:', len(cat))"
   ]
  },
  {
   "cell_type": "code",
   "execution_count": null,
   "metadata": {},
   "outputs": [],
   "source": [
    "events_mag = []\n",
    "\n",
    "minimum_magnitude=2.5\n",
    "\n",
    "for ev in cat:\n",
    "    if ev.magnitude>=minimum_magnitude :\n",
    "        events_mag.append(model.Event(name=ev.name, time=ev.time,\n",
    "                                lat=ev.lat, lon=ev.lon,\n",
    "                                depth=ev.depth, magnitude=ev.magnitude))\n",
    "events_mag.sort(key=lambda x: x.time, reverse=False)\n",
    "\n",
    "catname = os.path.join(catdir, 'catologue_flegrei_GOSSIP_mag2_5.pf')\n",
    "\n",
    "model.dump_events(events_mag, catname)\n",
    "print('Number of events:', len(events_mag))"
   ]
  },
  {
   "cell_type": "markdown",
   "metadata": {},
   "source": [
    "### INGV"
   ]
  },
  {
   "cell_type": "code",
   "execution_count": null,
   "metadata": {},
   "outputs": [],
   "source": [
    "catname = os.path.join(catdir, 'catologue_flegrei_INGV.pf')\n",
    "\n",
    "cat = model.load_events(catname)\n",
    "print('Number of events:', len(cat))"
   ]
  },
  {
   "cell_type": "code",
   "execution_count": null,
   "metadata": {},
   "outputs": [],
   "source": [
    "events_mag = []\n",
    "\n",
    "minimum_magnitude=2.5\n",
    "\n",
    "for ev in cat:\n",
    "    if ev.magnitude>=minimum_magnitude :\n",
    "        events_mag.append(model.Event(name=ev.name, time=ev.time,\n",
    "                                lat=ev.lat, lon=ev.lon,\n",
    "                                depth=ev.depth, magnitude=ev.magnitude))\n",
    "events_mag.sort(key=lambda x: x.time, reverse=False)\n",
    "\n",
    "catname = os.path.join(catdir, 'catologue_flegrei_INGV_mag2_5.pf')\n",
    "\n",
    "model.dump_events(events_mag, catname)\n",
    "print('Number of events:', len(events_mag))"
   ]
  },
  {
   "cell_type": "markdown",
   "metadata": {},
   "source": [
    "# compare the two catalogues"
   ]
  },
  {
   "cell_type": "code",
   "execution_count": 3,
   "metadata": {},
   "outputs": [
    {
     "name": "stdout",
     "output_type": "stream",
     "text": [
      "Number of events GOSSIP: 51\n",
      "Number of events GOSSIP complete: 8031\n",
      "Number of events INGV: 43\n",
      "Number of events INGV complete: 758\n"
     ]
    }
   ],
   "source": [
    "catname = os.path.join(catdir, 'catologue_flegrei_GOSSIP_mag2_5.pf')\n",
    "\n",
    "catalogue_G = model.load_events(catname)\n",
    "print('Number of events GOSSIP:', len(catalogue_G))\n",
    "\n",
    "catname = os.path.join(catdir, 'catologue_flegrei_GOSSIP.pf')\n",
    "\n",
    "catalogue_G_complete = model.load_events(catname)\n",
    "print('Number of events GOSSIP complete:', len(catalogue_G_complete))\n",
    "\n",
    "catname = os.path.join(catdir, 'catologue_flegrei_INGV_mag2_5.pf')\n",
    "\n",
    "catalogue_I = model.load_events(catname)\n",
    "print('Number of events INGV:', len(catalogue_I))\n",
    "\n",
    "catname = os.path.join(catdir, 'catologue_flegrei_INGV.pf')\n",
    "\n",
    "catalogue_I_complete = model.load_events(catname)\n",
    "print('Number of events INGV complete:', len(catalogue_I_complete))"
   ]
  },
  {
   "cell_type": "code",
   "execution_count": null,
   "metadata": {},
   "outputs": [],
   "source": [
    "id_catalogues=[]\n",
    "\n",
    "for ind,ev_G in enumerate(catalogue_G):\n",
    "    \n",
    "    origin_time = ev_G.time\n",
    "    time_min= origin_time - 5\n",
    "    time_max= origin_time + 5\n",
    "\n",
    "    id_catalogues.append([])\n",
    "    id_catalogues[ind].append( ev_G.name )\n",
    "\n",
    "    for ev_I in catalogue_I:\n",
    "        if ev_I.time>time_min and ev_I.time<time_max:\n",
    "            id_catalogues[ind].append( ev_I.name )\n",
    "    \n",
    "\n",
    "id_catalogues"
   ]
  },
  {
   "cell_type": "code",
   "execution_count": null,
   "metadata": {},
   "outputs": [],
   "source": [
    "id_catalogues2=[]\n",
    "\n",
    "for ind,ev_I in enumerate(catalogue_I):\n",
    "    \n",
    "    origin_time = ev_I.time\n",
    "    time_min= origin_time - 5\n",
    "    time_max= origin_time + 5\n",
    "\n",
    "    id_catalogues2.append([])\n",
    "    id_catalogues2[ind].append( ev_I.name )\n",
    "\n",
    "    for ev_G in catalogue_G:\n",
    "        if ev_G.time>time_min and ev_G.time<time_max:\n",
    "            id_catalogues2[ind].append( ev_G.name )\n",
    "    \n",
    "\n",
    "id_catalogues2"
   ]
  },
  {
   "cell_type": "code",
   "execution_count": null,
   "metadata": {},
   "outputs": [],
   "source": [
    "########################################################################\n",
    "################OLD CATALOGUE########################################\n",
    "########################################################################\n",
    "\n",
    "events = []\n",
    "\n",
    "#create a new catalogue with all the events from GOSSIP\n",
    "for ev_G in catalogue_G:\n",
    "#    events.append(ev_G)\n",
    "#    ev_G.tags = ['GOSSIP_id:'+ str(ev_G.name) + ' mag:' + str(ev_G.magnitude)]\n",
    "#    strtime = util.time_to_str(ev_G.time)\n",
    "#    ev_G.name = 'flegrei_' + strtime[0:4] +'_'+ strtime[5:7]+'_'+strtime[8:10]+'_'+strtime[11:13]+'_'+strtime[14:16]+'_'+strtime[17:19]\n",
    "    tag = ['GOSSIP_id:'+ str(ev_G.name) + ', mag:' + str(ev_G.magnitude)]\n",
    "    strtime = util.time_to_str(ev_G.time)\n",
    "    event_name = 'flegrei_' + strtime[0:4] +'_'+ strtime[5:7]+'_'+strtime[8:10]+'_'+strtime[11:13]+'_'+strtime[14:16]+'_'+strtime[17:19]\n",
    "    events.append(model.Event(name=event_name, time=ev_G.time,\n",
    "                            lat=ev_G.lat, lon=ev_G.lon,\n",
    "                            depth=ev_G.depth,tags=tag))\n",
    "\n",
    "\n",
    "events.sort(key=lambda x: x.time, reverse=False)\n",
    "catname = os.path.join(catdir, 'catologue_flegrei_mag2_5.pf')\n",
    "model.dump_events(events, catname)\n",
    "\n",
    "events=model.load_events(catname)\n",
    "\n",
    "#add the tags on the common events with INGV\n",
    "ev_to_remove=[]\n",
    "\n",
    "for ind,ev_G in enumerate(events):\n",
    "    time_min= ev_G.time -5\n",
    "    time_max= ev_G.time +5\n",
    "    count=0\n",
    "    for ev_I in catalogue_I:\n",
    "        if ev_I.time>time_min and ev_I.time<time_max:\n",
    "            ev_G.tags.append('INGV_id:'+ str(ev_I.name) + ', mag:' + str(ev_I.magnitude))\n",
    "            count+=1\n",
    "    if count!=1:\n",
    "        ev_to_remove.append(ind)\n",
    "\n",
    "for ind in reversed(ev_to_remove):\n",
    "    del events[ind]\n",
    "\n",
    "events.sort(key=lambda x: x.time, reverse=False)\n",
    "\n",
    "\n",
    "catname = os.path.join(catdir, 'catologue_flegrei_mag2_5.pf')\n",
    "model.dump_events(events, catname)\n",
    "print('Number of events of merged catalogues:', len(events))"
   ]
  },
  {
   "cell_type": "code",
   "execution_count": 4,
   "metadata": {},
   "outputs": [
    {
     "name": "stdout",
     "output_type": "stream",
     "text": [
      "Number of events in new catalogue: 49\n"
     ]
    }
   ],
   "source": [
    "########################################################################\n",
    "################ NEW CATALOGUE PART 1 ########################################\n",
    "########################################################################\n",
    "\n",
    "events = []\n",
    "\n",
    "#create a new catalogue with all the events from GOSSIP\n",
    "for ev_G in catalogue_G:\n",
    "#    events.append(ev_G)\n",
    "#    ev_G.tags = ['GOSSIP_id:'+ str(ev_G.name) + ' mag:' + str(ev_G.magnitude)]\n",
    "#    strtime = util.time_to_str(ev_G.time)\n",
    "#    ev_G.name = 'flegrei_' + strtime[0:4] +'_'+ strtime[5:7]+'_'+strtime[8:10]+'_'+strtime[11:13]+'_'+strtime[14:16]+'_'+strtime[17:19]\n",
    "    tag = ['GOSSIP_id:'+ str(ev_G.name) + ', mag:' + str(ev_G.magnitude)]\n",
    "    strtime = util.time_to_str(ev_G.time)\n",
    "    event_name = 'flegrei_' + strtime[0:4] +'_'+ strtime[5:7]+'_'+strtime[8:10]+'_'+strtime[11:13]+'_'+strtime[14:16]+'_'+strtime[17:19]\n",
    "    events.append(model.Event(name=event_name, time=ev_G.time,\n",
    "                            lat=ev_G.lat, lon=ev_G.lon,\n",
    "                            depth=ev_G.depth,tags=tag))\n",
    "\n",
    "\n",
    "events.sort(key=lambda x: x.time, reverse=False)\n",
    "\n",
    "#add the tags on the common events with INGV complete\n",
    "\n",
    "ev_to_remove=[]\n",
    "\n",
    "for ind,ev_G in enumerate(events):\n",
    "    time_min= ev_G.time -5\n",
    "    time_max= ev_G.time +5\n",
    "    count=0\n",
    "    for ev_I in catalogue_I_complete:\n",
    "        if ev_I.time>time_min and ev_I.time<time_max:\n",
    "            ev_G.tags.append('INGV_id:'+ str(ev_I.name) + ', mag:' + str(ev_I.magnitude))\n",
    "            count+=1\n",
    "    if count!=1:\n",
    "        ev_to_remove.append(ind)\n",
    "\n",
    "#remove multiple events\n",
    "for ind in reversed(ev_to_remove):\n",
    "    del events[ind]\n",
    "\n",
    "catname = os.path.join(catdir, 'catologue_flegrei_new_mag2_5.pf')\n",
    "model.dump_events(events, catname)\n",
    "print('Number of events in new catalogue:', len(events))"
   ]
  },
  {
   "cell_type": "code",
   "execution_count": null,
   "metadata": {},
   "outputs": [],
   "source": [
    "catname = os.path.join(catdir, 'catologue_flegrei_new_mag2_5.pf')\n",
    "events=model.load_events(catname)\n",
    "print('Number of events in new catalogue:', len(events))"
   ]
  },
  {
   "cell_type": "code",
   "execution_count": 5,
   "metadata": {},
   "outputs": [
    {
     "name": "stdout",
     "output_type": "stream",
     "text": [
      "flegrei_2020_12_19_21_54_53 flegrei_2020_12_19_21_54_53\n",
      "flegrei_2020_12_19_21_54_57 flegrei_2020_12_19_21_54_57\n",
      "Number of events in merged catalogues: 53\n"
     ]
    }
   ],
   "source": [
    "########################################################################\n",
    "################ NEW CATALOGUE PART 2 ########################################\n",
    "########################################################################\n",
    "\n",
    "events_to_append=[]\n",
    "\n",
    "#add to catalogue events from INGV of mag > 2.5 not present in GOSSIP > 2.5 catalogue\n",
    "for ev_I in catalogue_I:\n",
    "    time_min= ev_I.time -5\n",
    "    time_max= ev_I.time +5\n",
    "    count=0\n",
    "    for ev in events:\n",
    "        if ev.time>time_min and ev.time<time_max:\n",
    "            count+=1\n",
    "    if count==0:\n",
    "        for ev_G in catalogue_G_complete:\n",
    "            if ev_G.time>time_min and ev_G.time<time_max:\n",
    "                tag = ['GOSSIP_id:'+ str(ev_G.name) + ', mag:' + str(ev_G.magnitude) + \n",
    "                       ', INGV_id:'+ str(ev_I.name) + ', mag:' + str(ev_I.magnitude)]\n",
    "                strtime = util.time_to_str(ev_G.time)\n",
    "                event_name = 'flegrei_' + strtime[0:4] +'_'+ strtime[5:7]+'_'+strtime[8:10]+'_'+strtime[11:13]+'_'+strtime[14:16]+'_'+strtime[17:19]\n",
    "                events_to_append.append(model.Event(name=event_name, time=ev_G.time,\n",
    "                                    lat=ev_G.lat, lon=ev_G.lon,\n",
    "                                    depth=ev_G.depth,tags=tag))   \n",
    "\n",
    "events_to_append.sort(key=lambda x: x.time, reverse=False)\n",
    "\n",
    "#remove multiple events\n",
    "ev_eliminate=[]\n",
    "ev_pre=events_to_append[0]\n",
    "for ind,ev in enumerate(events_to_append[1:]):\n",
    "    if ev_pre.name==ev.name:\n",
    "        ev_eliminate.append(ind)\n",
    "        ev_eliminate.append(ind+1)\n",
    "    ev_pre=ev\n",
    "\n",
    "#remove multiple events\n",
    "for ind in reversed(ev_eliminate):\n",
    "    del events_to_append[ind]\n",
    "\n",
    "\n",
    "for ev in events_to_append:\n",
    "    events.append(ev)\n",
    "\n",
    "events.sort(key=lambda x: x.time, reverse=False)\n",
    "\n",
    "\n",
    "catname = os.path.join(catdir, 'catologue_flegrei_new_mag2_5.pf')\n",
    "model.dump_events(events, catname)\n",
    "print('Number of events in merged catalogues:', len(events))\n"
   ]
  },
  {
   "cell_type": "markdown",
   "metadata": {},
   "source": [
    "### Load"
   ]
  },
  {
   "cell_type": "code",
   "execution_count": null,
   "metadata": {},
   "outputs": [],
   "source": [
    "catname = os.path.join(catdir, 'catologue_flegrei_new_mag2_5.pf')\n",
    "\n",
    "cat = model.load_events(catname)\n",
    "print('Number of events:', len(cat))"
   ]
  },
  {
   "cell_type": "markdown",
   "metadata": {},
   "source": [
    "# MANUALLY ELIMINATE EVENTS"
   ]
  },
  {
   "cell_type": "markdown",
   "metadata": {},
   "source": [
    "### events too close in time\n",
    "### events with not enough stations"
   ]
  },
  {
   "cell_type": "code",
   "execution_count": null,
   "metadata": {},
   "outputs": [],
   "source": [
    "'''\n",
    "name = flegrei_2015_10_07_09_10_50\n",
    "time = 2015-10-07 09:10:50.680\n",
    "latitude = 40.825001\n",
    "longitude = 14.15033\n",
    "depth = 1530\n",
    "tags = GOSSIP_id:4217, mag:2.5, INGV_id:6142151, mag:2.5\n",
    "--------------------------------------------\n",
    "name = flegrei_2023_04_15_05_54_37\n",
    "time = 2023-04-15 05:54:37.220\n",
    "latitude = 40.814999\n",
    "longitude = 14.1563\n",
    "depth = 2750\n",
    "tags = GOSSIP_id:24645, mag:2.63, INGV_id:34689631, mag:2.8\n",
    "--------------------------------------------\n",
    "name = flegrei_2023_04_15_05_54_40\n",
    "time = 2023-04-15 05:54:40.430\n",
    "latitude = 40.814499\n",
    "longitude = 14.1542\n",
    "depth = 2360\n",
    "tags = GOSSIP_id:24688, mag:2.71, INGV_id:34689631, mag:2.8\n",
    "'''"
   ]
  }
 ],
 "metadata": {
  "kernelspec": {
   "display_name": "Python 3",
   "language": "python",
   "name": "python3"
  },
  "language_info": {
   "codemirror_mode": {
    "name": "ipython",
    "version": 3
   },
   "file_extension": ".py",
   "mimetype": "text/x-python",
   "name": "python",
   "nbconvert_exporter": "python",
   "pygments_lexer": "ipython3",
   "version": "3.11.7"
  }
 },
 "nbformat": 4,
 "nbformat_minor": 2
}
