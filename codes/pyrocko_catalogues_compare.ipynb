{
 "cells": [
  {
   "cell_type": "code",
   "execution_count": 1,
   "metadata": {},
   "outputs": [],
   "source": [
    "from pyrocko import util, model, io, trace, moment_tensor, gmtpy\n",
    "from pyrocko import pz\n",
    "from pyrocko import orthodrome as od\n",
    "from pyrocko.io import quakeml\n",
    "from pyrocko.io import stationxml as fdsn\n",
    "from pyrocko.client import catalog\n",
    "from pyrocko.automap import Map\n",
    "import pyrocko.moment_tensor as pmt\n",
    "from seiscloud import plot as scp\n",
    "from seiscloud import cluster as scc\n",
    "import numpy as num\n",
    "import os, sys, re, math, shutil\n",
    "import matplotlib.pyplot as plt\n",
    "from matplotlib import collections  as mc\n",
    "from matplotlib import dates\n",
    "import datetime\n",
    "import urllib.request\n",
    "from pyrocko.plot.gmtpy import GMT"
   ]
  },
  {
   "cell_type": "code",
   "execution_count": 2,
   "metadata": {},
   "outputs": [],
   "source": [
    "workdir='../'\n",
    "catdir =  os.path.join(workdir,'CAT')"
   ]
  },
  {
   "cell_type": "markdown",
   "metadata": {},
   "source": [
    "## GOSSIP: Events where either lat, long, depth or mag are not present"
   ]
  },
  {
   "cell_type": "code",
   "execution_count": null,
   "metadata": {},
   "outputs": [],
   "source": [
    "catname = os.path.join(catdir, 'catologue_flegrei_GOSSIP_complete.pf')\n",
    "\n",
    "cat_c = model.load_events(catname)\n",
    "print('Number of events:', len(cat_c))"
   ]
  },
  {
   "cell_type": "code",
   "execution_count": null,
   "metadata": {},
   "outputs": [],
   "source": [
    "magnitude_missed=[]\n",
    "time=[]\n",
    "for ev in cat_c:\n",
    "    if ev.magnitude==None or ev.lat==None or ev.lon==None or ev.depth==None:\n",
    "        magnitude_missed.append(ev.magnitude)\n",
    "        time.append(ev.time)\n",
    "\n",
    "eq_dates = [datetime.datetime.fromtimestamp(t) for t in time]\n",
    "\n",
    "fig, axs = plt.subplots(1, 1, figsize=(17,6), sharex=True)\n",
    "axs.scatter(eq_dates,magnitude_missed, s=5, color='green')\n",
    "axs.set_ylabel('Magnitude')\n",
    "axs.grid(True)\n",
    "axs.set_xlabel('Time')\n",
    "\n",
    "\n",
    "max=0\n",
    "for mag in magnitude_missed:\n",
    "    if mag != None:\n",
    "        if mag>max:\n",
    "            max=mag\n",
    "print('max magnitude lost:',max)\n",
    "\n"
   ]
  },
  {
   "cell_type": "markdown",
   "metadata": {},
   "source": [
    "## new catalogue with events over a certain magnitude"
   ]
  },
  {
   "cell_type": "markdown",
   "metadata": {},
   "source": [
    "### GOSSIP"
   ]
  },
  {
   "cell_type": "code",
   "execution_count": null,
   "metadata": {},
   "outputs": [],
   "source": [
    "catname = os.path.join(catdir, 'catologue_flegrei_GOSSIP.pf')\n",
    "\n",
    "cat = model.load_events(catname)\n",
    "print('Number of events:', len(cat))"
   ]
  },
  {
   "cell_type": "code",
   "execution_count": null,
   "metadata": {},
   "outputs": [],
   "source": [
    "events_mag = []\n",
    "\n",
    "minimum_magnitude=2.5\n",
    "\n",
    "for ev in cat:\n",
    "    if ev.magnitude>=minimum_magnitude :\n",
    "        events_mag.append(model.Event(name=ev.name, time=ev.time,\n",
    "                                lat=ev.lat, lon=ev.lon,\n",
    "                                depth=ev.depth, magnitude=ev.magnitude))\n",
    "events_mag.sort(key=lambda x: x.time, reverse=False)\n",
    "\n",
    "catname = os.path.join(catdir, 'catologue_flegrei_GOSSIP_mag2_5.pf')\n",
    "\n",
    "model.dump_events(events_mag, catname)\n",
    "print('Number of events:', len(events_mag))"
   ]
  },
  {
   "cell_type": "markdown",
   "metadata": {},
   "source": [
    "### INGV"
   ]
  },
  {
   "cell_type": "code",
   "execution_count": null,
   "metadata": {},
   "outputs": [],
   "source": [
    "catname = os.path.join(catdir, 'catologue_flegrei_INGV.pf')\n",
    "\n",
    "cat = model.load_events(catname)\n",
    "print('Number of events:', len(cat))"
   ]
  },
  {
   "cell_type": "code",
   "execution_count": null,
   "metadata": {},
   "outputs": [],
   "source": [
    "events_mag = []\n",
    "\n",
    "minimum_magnitude=2.5\n",
    "\n",
    "for ev in cat:\n",
    "    if ev.magnitude>=minimum_magnitude :\n",
    "        events_mag.append(model.Event(name=ev.name, time=ev.time,\n",
    "                                lat=ev.lat, lon=ev.lon,\n",
    "                                depth=ev.depth, magnitude=ev.magnitude))\n",
    "events_mag.sort(key=lambda x: x.time, reverse=False)\n",
    "\n",
    "catname = os.path.join(catdir, 'catologue_flegrei_INGV_mag2_5.pf')\n",
    "\n",
    "model.dump_events(events_mag, catname)\n",
    "print('Number of events:', len(events_mag))"
   ]
  },
  {
   "cell_type": "markdown",
   "metadata": {},
   "source": [
    "# compare the two catalogues"
   ]
  },
  {
   "cell_type": "code",
   "execution_count": 10,
   "metadata": {},
   "outputs": [
    {
     "name": "stdout",
     "output_type": "stream",
     "text": [
      "Number of events GOSSIP: 51\n",
      "Number of events INGV: 43\n"
     ]
    }
   ],
   "source": [
    "catname = os.path.join(catdir, 'catologue_flegrei_GOSSIP_mag2_5.pf')\n",
    "\n",
    "catalogue_G = model.load_events(catname)\n",
    "print('Number of events GOSSIP:', len(catalogue_G))\n",
    "\n",
    "catname = os.path.join(catdir, 'catologue_flegrei_INGV_mag2_5.pf')\n",
    "\n",
    "catalogue_I = model.load_events(catname)\n",
    "print('Number of events INGV:', len(catalogue_I))"
   ]
  },
  {
   "cell_type": "code",
   "execution_count": null,
   "metadata": {},
   "outputs": [],
   "source": [
    "id_catalogues=[]\n",
    "\n",
    "for ind,ev_G in enumerate(catalogue_G):\n",
    "    \n",
    "    origin_time = ev_G.time\n",
    "    time_min= origin_time - 5\n",
    "    time_max= origin_time + 5\n",
    "\n",
    "    id_catalogues.append([])\n",
    "    id_catalogues[ind].append( ev_G.name )\n",
    "\n",
    "    for ev_I in catalogue_I:\n",
    "        if ev_I.time>time_min and ev_I.time<time_max:\n",
    "            id_catalogues[ind].append( ev_I.name )\n",
    "    \n",
    "\n",
    "id_catalogues"
   ]
  },
  {
   "cell_type": "code",
   "execution_count": null,
   "metadata": {},
   "outputs": [],
   "source": [
    "id_catalogues2=[]\n",
    "\n",
    "for ind,ev_I in enumerate(catalogue_I):\n",
    "    \n",
    "    origin_time = ev_I.time\n",
    "    time_min= origin_time - 5\n",
    "    time_max= origin_time + 5\n",
    "\n",
    "    id_catalogues2.append([])\n",
    "    id_catalogues2[ind].append( ev_I.name )\n",
    "\n",
    "    for ev_G in catalogue_G:\n",
    "        if ev_G.time>time_min and ev_G.time<time_max:\n",
    "            id_catalogues2[ind].append( ev_G.name )\n",
    "    \n",
    "\n",
    "id_catalogues2"
   ]
  },
  {
   "cell_type": "code",
   "execution_count": 14,
   "metadata": {},
   "outputs": [
    {
     "name": "stdout",
     "output_type": "stream",
     "text": [
      "Number of events of merged catalogues: 38\n"
     ]
    }
   ],
   "source": [
    "events = []\n",
    "\n",
    "#create a new catalogue with all the events from GOSSIP\n",
    "for ev_G in catalogue_G:\n",
    "#    events.append(ev_G)\n",
    "#    ev_G.tags = ['GOSSIP_id:'+ str(ev_G.name) + ' mag:' + str(ev_G.magnitude)]\n",
    "#    strtime = util.time_to_str(ev_G.time)\n",
    "#    ev_G.name = 'flegrei_' + strtime[0:4] +'_'+ strtime[5:7]+'_'+strtime[8:10]+'_'+strtime[11:13]+'_'+strtime[14:16]+'_'+strtime[17:19]\n",
    "    tag = ['GOSSIP_id:'+ str(ev_G.name) + ', mag:' + str(ev_G.magnitude)]\n",
    "    strtime = util.time_to_str(ev_G.time)\n",
    "    event_name = 'flegrei_' + strtime[0:4] +'_'+ strtime[5:7]+'_'+strtime[8:10]+'_'+strtime[11:13]+'_'+strtime[14:16]+'_'+strtime[17:19]\n",
    "    events.append(model.Event(name=event_name, time=ev_G.time,\n",
    "                            lat=ev_G.lat, lon=ev_G.lon,\n",
    "                            depth=ev_G.depth,tags=tag))\n",
    "\n",
    "\n",
    "events.sort(key=lambda x: x.time, reverse=False)\n",
    "catname = os.path.join(catdir, 'catologue_flegrei_mag2_5.pf')\n",
    "model.dump_events(events, catname)\n",
    "\n",
    "events=model.load_events(catname)\n",
    "\n",
    "#add the tags on the common events with INGV\n",
    "ev_to_remove=[]\n",
    "\n",
    "for ind,ev_G in enumerate(events):\n",
    "    time_min= ev_G.time -5\n",
    "    time_max= ev_G.time +5\n",
    "    count=0\n",
    "    for ev_I in catalogue_I:\n",
    "        if ev_I.time>time_min and ev_I.time<time_max:\n",
    "            ev_G.tags.append('INGV_id:'+ str(ev_I.name) + ', mag:' + str(ev_I.magnitude))\n",
    "            count+=1\n",
    "    if count!=1:\n",
    "        ev_to_remove.append(ind)\n",
    "\n",
    "for ind in reversed(ev_to_remove):\n",
    "    del events[ind]\n",
    "\n",
    "events.sort(key=lambda x: x.time, reverse=False)\n",
    "\n",
    "\n",
    "catname = os.path.join(catdir, 'catologue_flegrei_mag2_5.pf')\n",
    "model.dump_events(events, catname)\n",
    "print('Number of events of merged catalogues:', len(events))"
   ]
  },
  {
   "cell_type": "code",
   "execution_count": 12,
   "metadata": {},
   "outputs": [
    {
     "name": "stdout",
     "output_type": "stream",
     "text": [
      "['GOSSIP_id:4217', 'mag:2.5', 'INGV_id:6142151, mag:2.5']\n",
      "['GOSSIP_id:7102', 'mag:3.47', 'INGV_id:30205901, mag:2.7']\n",
      "['GOSSIP_id:14725', 'mag:3.57', 'INGV_id:30350681, mag:3.0']\n",
      "['GOSSIP_id:16351', 'mag:2.51', 'INGV_id:32166291, mag:2.7']\n",
      "['GOSSIP_id:17434', 'mag:2.67', 'INGV_id:33361881, mag:2.7']\n",
      "['GOSSIP_id:17732', 'mag:2.53', 'INGV_id:33524091, mag:2.6']\n",
      "['GOSSIP_id:23194', 'mag:2.59', 'INGV_id:33946951, mag:2.5']\n",
      "['GOSSIP_id:23338', 'mag:2.97', 'INGV_id:34043501, mag:3.0']\n",
      "['GOSSIP_id:23716', 'mag:2.6', 'INGV_id:34240361, mag:2.6']\n",
      "['GOSSIP_id:23904', 'mag:2.83', 'INGV_id:34351831, mag:2.8']\n",
      "['GOSSIP_id:24146', 'mag:2.59', 'INGV_id:34448221, mag:2.6']\n",
      "['GOSSIP_id:24479', 'mag:2.92', 'INGV_id:34628851, mag:2.7']\n",
      "['GOSSIP_id:24645', 'mag:2.63', 'INGV_id:34689631, mag:2.8']\n",
      "['GOSSIP_id:24688', 'mag:2.71', 'INGV_id:34689631, mag:2.8']\n",
      "['GOSSIP_id:25202', 'mag:3.48', 'INGV_id:34919151, mag:3.4']\n",
      "['GOSSIP_id:25214', 'mag:2.69', 'INGV_id:34928261, mag:2.8']\n",
      "['GOSSIP_id:26132', 'mag:3.56', 'INGV_id:35278141, mag:3.6']\n",
      "['GOSSIP_id:26290', 'mag:2.89', 'INGV_id:35317131, mag:2.9']\n",
      "['GOSSIP_id:28790', 'mag:2.67', 'INGV_id:35870311, mag:2.5']\n",
      "['GOSSIP_id:28837', 'mag:3.2', 'INGV_id:35871201, mag:3.1']\n",
      "['GOSSIP_id:28871', 'mag:2.53', 'INGV_id:35871881, mag:2.5']\n",
      "['GOSSIP_id:28848', 'mag:3.64', 'INGV_id:35871351, mag:3.6']\n",
      "['GOSSIP_id:28850', 'mag:3.12', 'INGV_id:35871681, mag:2.8']\n",
      "['GOSSIP_id:29141', 'mag:2.61', 'INGV_id:35963161, mag:2.6']\n",
      "['GOSSIP_id:29728', 'mag:3.79', 'INGV_id:36084091, mag:3.8']\n",
      "['GOSSIP_id:29830', 'mag:2.9', 'INGV_id:36115691, mag:2.9']\n",
      "['GOSSIP_id:30053', 'mag:2.7', 'INGV_id:36220721, mag:2.5']\n",
      "['GOSSIP_id:30137', 'mag:3.2', 'INGV_id:36243651, mag:3.0']\n",
      "['GOSSIP_id:30310', 'mag:2.8', 'INGV_id:36272561, mag:2.8']\n",
      "['GOSSIP_id:30421', 'mag:3.3', 'INGV_id:36288401, mag:3.2']\n",
      "['GOSSIP_id:30466', 'mag:4.2', 'INGV_id:36299321, mag:4.2']\n",
      "['GOSSIP_id:30510', 'mag:2.8', 'INGV_id:36302331, mag:2.5']\n",
      "['GOSSIP_id:30792', 'mag:2.7', 'INGV_id:36335801, mag:2.5']\n",
      "['GOSSIP_id:30857', 'mag:2.9', 'INGV_id:36352871, mag:2.9']\n",
      "['GOSSIP_id:30898', 'mag:4.0', 'INGV_id:36365741, mag:4.0']\n",
      "['GOSSIP_id:31003', 'mag:2.6', 'INGV_id:36382041, mag:2.6']\n",
      "['GOSSIP_id:31411', 'mag:3.6', 'INGV_id:36499161, mag:3.6']\n",
      "['GOSSIP_id:31823', 'mag:3.0', 'INGV_id:36951941, mag:3.1']\n"
     ]
    }
   ],
   "source": [
    "for ev in events:\n",
    "    print(ev.tags)"
   ]
  },
  {
   "cell_type": "code",
   "execution_count": 13,
   "metadata": {},
   "outputs": [
    {
     "name": "stdout",
     "output_type": "stream",
     "text": [
      "flegrei_2015_10_07_09_10_50\n",
      "flegrei_2022_03_16_14_14_34\n",
      "flegrei_2022_03_29_17_45_32\n",
      "flegrei_2022_07_30_03_27_48\n",
      "flegrei_2022_11_12_21_37_54\n",
      "flegrei_2022_11_30_02_34_39\n",
      "flegrei_2023_01_19_08_44_30\n",
      "flegrei_2023_02_05_00_45_36\n",
      "flegrei_2023_03_04_13_15_20\n",
      "flegrei_2023_03_13_22_40_53\n",
      "flegrei_2023_03_24_05_24_43\n",
      "flegrei_2023_04_10_03_54_45\n",
      "flegrei_2023_04_15_05_54_37\n",
      "flegrei_2023_04_15_05_54_40\n",
      "flegrei_2023_05_08_02_28_34\n",
      "flegrei_2023_05_08_22_33_17\n",
      "flegrei_2023_06_11_06_44_25\n",
      "flegrei_2023_06_15_15_39_40\n",
      "flegrei_2023_08_18_00_01_28\n",
      "flegrei_2023_08_18_04_09_59\n",
      "flegrei_2023_08_18_04_10_30\n",
      "flegrei_2023_08_18_04_18_05\n",
      "flegrei_2023_08_18_04_22_49\n",
      "flegrei_2023_08_27_21_14_23\n",
      "flegrei_2023_09_07_17_45_28\n",
      "flegrei_2023_09_12_02_28_50\n",
      "flegrei_2023_09_20_22_54_29\n",
      "flegrei_2023_09_22_09_01_59\n",
      "flegrei_2023_09_24_15_35_02\n",
      "flegrei_2023_09_26_07_10_29\n",
      "flegrei_2023_09_27_01_35_34\n",
      "flegrei_2023_09_27_09_16_18\n",
      "flegrei_2023_09_29_21_57_58\n",
      "flegrei_2023_10_01_13_33_09\n",
      "flegrei_2023_10_02_20_08_26\n",
      "flegrei_2023_10_04_08_46_55\n",
      "flegrei_2023_10_16_10_36_21\n",
      "flegrei_2023_11_23_18_41_46\n"
     ]
    }
   ],
   "source": [
    "for ev in events:\n",
    "    print(ev.name)"
   ]
  },
  {
   "cell_type": "markdown",
   "metadata": {},
   "source": [
    "### Load"
   ]
  },
  {
   "cell_type": "code",
   "execution_count": null,
   "metadata": {},
   "outputs": [],
   "source": [
    "catname = os.path.join(catdir, 'catologue_flegrei_mag2_5.pf')\n",
    "\n",
    "cat = model.load_events(catname)\n",
    "print('Number of events:', len(cat))"
   ]
  }
 ],
 "metadata": {
  "kernelspec": {
   "display_name": "Python 3",
   "language": "python",
   "name": "python3"
  },
  "language_info": {
   "codemirror_mode": {
    "name": "ipython",
    "version": 3
   },
   "file_extension": ".py",
   "mimetype": "text/x-python",
   "name": "python",
   "nbconvert_exporter": "python",
   "pygments_lexer": "ipython3",
   "version": "3.11.7"
  }
 },
 "nbformat": 4,
 "nbformat_minor": 2
}
