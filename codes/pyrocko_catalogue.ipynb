{
 "cells": [
  {
   "cell_type": "code",
   "execution_count": 3,
   "metadata": {},
   "outputs": [],
   "source": [
    "from pyrocko import util, model, io, trace, moment_tensor, gmtpy\n",
    "from pyrocko import pz\n",
    "from pyrocko import orthodrome as od\n",
    "from pyrocko.io import quakeml\n",
    "from pyrocko.io import stationxml as fdsn\n",
    "from pyrocko.client import catalog\n",
    "from pyrocko.automap import Map\n",
    "import pyrocko.moment_tensor as pmt\n",
    "from seiscloud import plot as scp\n",
    "from seiscloud import cluster as scc\n",
    "import numpy as num\n",
    "import os, sys, re, math, shutil\n",
    "import matplotlib.pyplot as plt\n",
    "from matplotlib import collections  as mc\n",
    "from matplotlib import dates\n",
    "import datetime\n",
    "import urllib.request\n",
    "from pyrocko.plot.gmtpy import GMT\n",
    "\n",
    "from obspy import read_events"
   ]
  },
  {
   "cell_type": "code",
   "execution_count": 4,
   "metadata": {},
   "outputs": [],
   "source": [
    "catINGV=read_events('/Users/giaco/UNI/GIT/seis/FLEGREI/flegrei_2014_2023_INGV/catalogue_flegrei_INGV.xml')\n",
    "catOV=read_events('/Users/giaco/UNI/GIT/seis/FLEGREI/flegrei_2014_2023_GOSSIP/catalogue_flegrei_GOSSIP.xml')"
   ]
  },
  {
   "cell_type": "code",
   "execution_count": 6,
   "metadata": {},
   "outputs": [],
   "source": [
    "workdir='../'\n",
    "catdir =  os.path.join(workdir,'CAT')"
   ]
  },
  {
   "cell_type": "markdown",
   "metadata": {},
   "source": [
    "# INGV"
   ]
  },
  {
   "cell_type": "code",
   "execution_count": 3,
   "metadata": {},
   "outputs": [
    {
     "name": "stdout",
     "output_type": "stream",
     "text": [
      "Number of events: 758\n"
     ]
    }
   ],
   "source": [
    "# reformat local catalog from INGV\n",
    "catname = os.path.join(catdir, 'catologue_flegrei_INGV.pf')\n",
    "\n",
    "events = []\n",
    "\n",
    "for ev in catINGV:\n",
    "    name= str(ev.resource_id).split('=')[1]\n",
    "\n",
    "    timetmp= str(ev.origins[0].time)\n",
    "    timestr = timetmp[0:10] + ' ' + timetmp[11:23]                                        # format: '2010-01-01 00:00:00.000'\n",
    "    time = util.str_to_time(timestr)\n",
    "\n",
    "    lat=    float( ev.origins[0].latitude )\n",
    "    lon =   float( ev.origins[0].longitude )\n",
    "    depth = float( ev.origins[0].depth )\n",
    "    magnitude = float( ev.magnitudes[0].mag )\n",
    "    events.append(model.Event(name=name, time=time,\n",
    "                              lat=lat, lon=lon,\n",
    "                              depth=depth, magnitude=magnitude))\n",
    "events.sort(key=lambda x: x.time, reverse=False)\n",
    "model.dump_events(events, catname)\n",
    "print('Number of events:', len(events))"
   ]
  },
  {
   "cell_type": "code",
   "execution_count": 9,
   "metadata": {},
   "outputs": [
    {
     "name": "stdout",
     "output_type": "stream",
     "text": [
      "Number of events: 758\n"
     ]
    }
   ],
   "source": [
    "catname = os.path.join(catdir, 'catologue_flegrei_INGV.pf')\n",
    "events = model.load_events(catname)\n",
    "print('Number of events:', len(events))"
   ]
  },
  {
   "cell_type": "markdown",
   "metadata": {},
   "source": [
    "#  GOSSIP (OV)"
   ]
  },
  {
   "cell_type": "code",
   "execution_count": 5,
   "metadata": {},
   "outputs": [
    {
     "name": "stdout",
     "output_type": "stream",
     "text": [
      "Number of events: 13903\n"
     ]
    }
   ],
   "source": [
    "# STEP 1.1\n",
    "# Seismic catalog:\n",
    "# reformat local catalog from OV GOSSIP\n",
    "\n",
    "catname = os.path.join(catdir, 'catologue_flegrei_GOSSIP_complete.pf')\n",
    "\n",
    "events = []\n",
    "\n",
    "for ev in catOV:\n",
    "    name= str(ev.resource_id).split('/')[1]\n",
    "\n",
    "    timetmp= str(ev.origins[0].time)\n",
    "    timestr = timetmp[0:10] + ' ' + timetmp[11:23]                                        # format: '2010-01-01 00:00:00.000'\n",
    "    time = util.str_to_time(timestr)\n",
    "\n",
    "    magnitude = ev.magnitudes[0].mag \n",
    "\n",
    "    lat=ev.origins[0].latitude\n",
    "    lon =   ev.origins[0].longitude\n",
    "    depth = ev.origins[0].depth\n",
    "\n",
    "    if lat==None and lon==None and depth==None :\n",
    "        events.append(model.Event(name=name, time=time,\n",
    "                                    magnitude=magnitude))\n",
    "\n",
    "    else:\n",
    "        events.append(model.Event(name=name, time=time,\n",
    "                              lat=lat, lon=lon,\n",
    "                              depth=depth, magnitude=magnitude))\n",
    "    \n",
    "events.sort(key=lambda x: x.time, reverse=False)\n",
    "model.dump_events(events, catname)\n",
    "\n",
    "print('Number of events:', len(events))"
   ]
  },
  {
   "cell_type": "code",
   "execution_count": 10,
   "metadata": {},
   "outputs": [
    {
     "name": "stdout",
     "output_type": "stream",
     "text": [
      "Number of events: 13903\n"
     ]
    }
   ],
   "source": [
    "catname = os.path.join(catdir, 'catologue_flegrei_GOSSIP_complete.pf')\n",
    "events = model.load_events(catname)\n",
    "print('Number of events:', len(events))"
   ]
  },
  {
   "cell_type": "markdown",
   "metadata": {},
   "source": [
    "## GOSSIP only events with magnitude and location"
   ]
  },
  {
   "cell_type": "code",
   "execution_count": 6,
   "metadata": {},
   "outputs": [
    {
     "name": "stdout",
     "output_type": "stream",
     "text": [
      "Number of events: 8031\n"
     ]
    }
   ],
   "source": [
    "# Seismic catalog:\n",
    "# reformat local catalog from OV GOSSIP\n",
    "\n",
    "catname = os.path.join(catdir, 'catologue_flegrei_GOSSIP.pf')\n",
    "\n",
    "events = []\n",
    "\n",
    "for ev in catOV:\n",
    "    name= str(ev.resource_id).split('/')[1]\n",
    "\n",
    "    timetmp= str(ev.origins[0].time)\n",
    "    timestr = timetmp[0:10] + ' ' + timetmp[11:23]                                        # format: '2010-01-01 00:00:00.000'\n",
    "    time = util.str_to_time(timestr)\n",
    "\n",
    "    magnitude = ev.magnitudes[0].mag \n",
    "\n",
    "    lat=ev.origins[0].latitude\n",
    "    lon =   ev.origins[0].longitude\n",
    "    depth = ev.origins[0].depth\n",
    "\n",
    "    if lat!=None and lon!=None and depth!=None and magnitude!=None :\n",
    "        \n",
    "        events.append(model.Event(name=name, time=time,\n",
    "                              lat=lat, lon=lon,\n",
    "                              depth=depth, magnitude=magnitude))\n",
    "    \n",
    "events.sort(key=lambda x: x.time, reverse=False)\n",
    "model.dump_events(events, catname)\n",
    "\n",
    "print('Number of events:', len(events))"
   ]
  },
  {
   "cell_type": "code",
   "execution_count": 11,
   "metadata": {},
   "outputs": [
    {
     "name": "stdout",
     "output_type": "stream",
     "text": [
      "Number of events: 8031\n"
     ]
    }
   ],
   "source": [
    "catname = os.path.join(catdir, 'catologue_flegrei_GOSSIP.pf')\n",
    "events = model.load_events(catname)\n",
    "print('Number of events:', len(events))"
   ]
  }
 ],
 "metadata": {
  "kernelspec": {
   "display_name": "Python 3",
   "language": "python",
   "name": "python3"
  },
  "language_info": {
   "codemirror_mode": {
    "name": "ipython",
    "version": 3
   },
   "file_extension": ".py",
   "mimetype": "text/x-python",
   "name": "python",
   "nbconvert_exporter": "python",
   "pygments_lexer": "ipython3",
   "version": "3.11.7"
  }
 },
 "nbformat": 4,
 "nbformat_minor": 2
}
